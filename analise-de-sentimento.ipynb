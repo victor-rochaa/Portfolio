{
 "cells": [
  {
   "cell_type": "markdown",
   "metadata": {
    "papermill": {
     "duration": 0.058976,
     "end_time": "2020-12-01T12:30:54.296529",
     "exception": false,
     "start_time": "2020-12-01T12:30:54.237553",
     "status": "completed"
    },
    "tags": []
   },
   "source": [
    "# PMR3508 - Aprendizado de Máquina e Reconhecimento de Padrões\n",
    "\n",
    "#### $\\textit{- Análise de sentimento utilizando como base de dados as avaliações de filmes encontradas no site do IMDb. Uso do modelo Doc2Vec. }$\n",
    "#### $\\textit{Autor: Victor Rocha da Silva - PMR3508-2020-177}$\n",
    "\n",
    "## Importando bibliotecas e dados\n",
    "- Primeiramente, vamos importar algumas bibliotecas que serão úteis ao trabalhar com esses dados e, logo em seguida, o dataset:"
   ]
  },
  {
   "cell_type": "markdown",
   "metadata": {
    "papermill": {
     "duration": 0.0647,
     "end_time": "2020-12-01T12:30:54.418357",
     "exception": false,
     "start_time": "2020-12-01T12:30:54.353657",
     "status": "completed"
    },
    "tags": []
   },
   "source": [
    "Precisamos instalar algumas bibliotecas que serão importantes no decorrer do notebook: ftfy (Fixes Text For You), que corrige alguns erros de transcrição do Unicode; e gensim, importante em trabalhos relacionados a Natural Language Processing. Finalmente, vamos instalar também tensorflow e keras, responsáveis por algumas redes neurais."
   ]
  },
  {
   "cell_type": "code",
   "execution_count": 1,
   "metadata": {
    "execution": {
     "iopub.execute_input": "2020-12-01T12:30:54.543808Z",
     "iopub.status.busy": "2020-12-01T12:30:54.543037Z",
     "iopub.status.idle": "2020-12-01T12:31:42.707178Z",
     "shell.execute_reply": "2020-12-01T12:31:42.706386Z"
    },
    "papermill": {
     "duration": 48.232353,
     "end_time": "2020-12-01T12:31:42.707308",
     "exception": false,
     "start_time": "2020-12-01T12:30:54.474955",
     "status": "completed"
    },
    "tags": []
   },
   "outputs": [
    {
     "name": "stdout",
     "output_type": "stream",
     "text": [
      "Collecting pip\r\n",
      "  Downloading pip-20.3-py2.py3-none-any.whl (1.5 MB)\r\n",
      "\u001b[K     |████████████████████████████████| 1.5 MB 1.3 MB/s \r\n",
      "\u001b[?25hInstalling collected packages: pip\r\n",
      "  Attempting uninstall: pip\r\n",
      "    Found existing installation: pip 20.2.4\r\n",
      "    Uninstalling pip-20.2.4:\r\n",
      "      Successfully uninstalled pip-20.2.4\r\n",
      "Successfully installed pip-20.3\r\n",
      "Collecting ftfy\r\n",
      "  Downloading ftfy-5.8.tar.gz (64 kB)\r\n",
      "\u001b[K     |████████████████████████████████| 64 kB 680 kB/s \r\n",
      "\u001b[?25hRequirement already satisfied: wcwidth in /opt/conda/lib/python3.7/site-packages (from ftfy) (0.1.9)\r\n",
      "Building wheels for collected packages: ftfy\r\n",
      "  Building wheel for ftfy (setup.py) ... \u001b[?25l-\b \b\\\b \bdone\r\n",
      "\u001b[?25h  Created wheel for ftfy: filename=ftfy-5.8-py3-none-any.whl size=45612 sha256=dc2addb8ead014c1182ddd1309f0f6b4f1d61a5e1911ed3e4ee0bf4d9d63b793\r\n",
      "  Stored in directory: /root/.cache/pip/wheels/49/1c/fc/8b19700f939810cd8fd9495ae34934b246279791288eda1c31\r\n",
      "Successfully built ftfy\r\n",
      "Installing collected packages: ftfy\r\n",
      "Successfully installed ftfy-5.8\r\n",
      "Requirement already satisfied: gensim in /opt/conda/lib/python3.7/site-packages (3.8.3)\r\n",
      "Requirement already satisfied: six>=1.5.0 in /opt/conda/lib/python3.7/site-packages (from gensim) (1.14.0)\r\n",
      "Requirement already satisfied: numpy>=1.11.3 in /opt/conda/lib/python3.7/site-packages (from gensim) (1.18.5)\r\n",
      "Requirement already satisfied: smart-open>=1.8.1 in /opt/conda/lib/python3.7/site-packages (from gensim) (3.0.0)\r\n",
      "Requirement already satisfied: scipy>=0.18.1 in /opt/conda/lib/python3.7/site-packages (from gensim) (1.4.1)\r\n",
      "Requirement already satisfied: numpy>=1.11.3 in /opt/conda/lib/python3.7/site-packages (from gensim) (1.18.5)\r\n",
      "Requirement already satisfied: requests in /opt/conda/lib/python3.7/site-packages (from smart-open>=1.8.1->gensim) (2.23.0)\r\n",
      "Requirement already satisfied: chardet<4,>=3.0.2 in /opt/conda/lib/python3.7/site-packages (from requests->smart-open>=1.8.1->gensim) (3.0.4)\r\n",
      "Requirement already satisfied: idna<3,>=2.5 in /opt/conda/lib/python3.7/site-packages (from requests->smart-open>=1.8.1->gensim) (2.9)\r\n",
      "Requirement already satisfied: urllib3!=1.25.0,!=1.25.1,<1.26,>=1.21.1 in /opt/conda/lib/python3.7/site-packages (from requests->smart-open>=1.8.1->gensim) (1.25.9)\r\n",
      "Requirement already satisfied: certifi>=2017.4.17 in /opt/conda/lib/python3.7/site-packages (from requests->smart-open>=1.8.1->gensim) (2020.11.8)\r\n",
      "Requirement already satisfied: tensorflow in /opt/conda/lib/python3.7/site-packages (2.3.1)\r\n",
      "Requirement already satisfied: tensorboard<3,>=2.3.0 in /opt/conda/lib/python3.7/site-packages (from tensorflow) (2.4.0)\r\n",
      "Requirement already satisfied: wheel>=0.26 in /opt/conda/lib/python3.7/site-packages (from tensorflow) (0.34.2)\r\n",
      "Requirement already satisfied: termcolor>=1.1.0 in /opt/conda/lib/python3.7/site-packages (from tensorflow) (1.1.0)\r\n",
      "Requirement already satisfied: grpcio>=1.8.6 in /opt/conda/lib/python3.7/site-packages (from tensorflow) (1.33.2)\r\n",
      "Requirement already satisfied: six>=1.12.0 in /opt/conda/lib/python3.7/site-packages (from tensorflow) (1.14.0)\r\n",
      "Requirement already satisfied: protobuf>=3.9.2 in /opt/conda/lib/python3.7/site-packages (from tensorflow) (3.14.0)\r\n",
      "Requirement already satisfied: keras-preprocessing<1.2,>=1.1.1 in /opt/conda/lib/python3.7/site-packages (from tensorflow) (1.1.2)\r\n",
      "Requirement already satisfied: astunparse==1.6.3 in /opt/conda/lib/python3.7/site-packages (from tensorflow) (1.6.3)\r\n",
      "Requirement already satisfied: wrapt>=1.11.1 in /opt/conda/lib/python3.7/site-packages (from tensorflow) (1.11.2)\r\n",
      "Requirement already satisfied: numpy<1.19.0,>=1.16.0 in /opt/conda/lib/python3.7/site-packages (from tensorflow) (1.18.5)\r\n",
      "Requirement already satisfied: google-pasta>=0.1.8 in /opt/conda/lib/python3.7/site-packages (from tensorflow) (0.2.0)\r\n",
      "Requirement already satisfied: absl-py>=0.7.0 in /opt/conda/lib/python3.7/site-packages (from tensorflow) (0.11.0)\r\n",
      "Requirement already satisfied: h5py<2.11.0,>=2.10.0 in /opt/conda/lib/python3.7/site-packages (from tensorflow) (2.10.0)\r\n",
      "Requirement already satisfied: opt-einsum>=2.3.2 in /opt/conda/lib/python3.7/site-packages (from tensorflow) (3.3.0)\r\n",
      "Requirement already satisfied: gast==0.3.3 in /opt/conda/lib/python3.7/site-packages (from tensorflow) (0.3.3)\r\n",
      "Requirement already satisfied: tensorflow-estimator<2.4.0,>=2.3.0 in /opt/conda/lib/python3.7/site-packages (from tensorflow) (2.3.0)\r\n",
      "Requirement already satisfied: six>=1.12.0 in /opt/conda/lib/python3.7/site-packages (from tensorflow) (1.14.0)\r\n",
      "Requirement already satisfied: wheel>=0.26 in /opt/conda/lib/python3.7/site-packages (from tensorflow) (0.34.2)\r\n",
      "Requirement already satisfied: six>=1.12.0 in /opt/conda/lib/python3.7/site-packages (from tensorflow) (1.14.0)\r\n",
      "Requirement already satisfied: six>=1.12.0 in /opt/conda/lib/python3.7/site-packages (from tensorflow) (1.14.0)\r\n",
      "Requirement already satisfied: six>=1.12.0 in /opt/conda/lib/python3.7/site-packages (from tensorflow) (1.14.0)\r\n",
      "Requirement already satisfied: six>=1.12.0 in /opt/conda/lib/python3.7/site-packages (from tensorflow) (1.14.0)\r\n",
      "Requirement already satisfied: numpy<1.19.0,>=1.16.0 in /opt/conda/lib/python3.7/site-packages (from tensorflow) (1.18.5)\r\n",
      "Requirement already satisfied: six>=1.12.0 in /opt/conda/lib/python3.7/site-packages (from tensorflow) (1.14.0)\r\n",
      "Requirement already satisfied: numpy<1.19.0,>=1.16.0 in /opt/conda/lib/python3.7/site-packages (from tensorflow) (1.18.5)\r\n",
      "Requirement already satisfied: numpy<1.19.0,>=1.16.0 in /opt/conda/lib/python3.7/site-packages (from tensorflow) (1.18.5)\r\n",
      "Requirement already satisfied: six>=1.12.0 in /opt/conda/lib/python3.7/site-packages (from tensorflow) (1.14.0)\r\n",
      "Requirement already satisfied: google-auth<2,>=1.6.3 in /opt/conda/lib/python3.7/site-packages (from tensorboard<3,>=2.3.0->tensorflow) (1.14.0)\r\n",
      "Requirement already satisfied: markdown>=2.6.8 in /opt/conda/lib/python3.7/site-packages (from tensorboard<3,>=2.3.0->tensorflow) (3.2.1)\r\n",
      "Requirement already satisfied: google-auth-oauthlib<0.5,>=0.4.1 in /opt/conda/lib/python3.7/site-packages (from tensorboard<3,>=2.3.0->tensorflow) (0.4.1)\r\n",
      "Requirement already satisfied: protobuf>=3.9.2 in /opt/conda/lib/python3.7/site-packages (from tensorflow) (3.14.0)\r\n",
      "Requirement already satisfied: numpy<1.19.0,>=1.16.0 in /opt/conda/lib/python3.7/site-packages (from tensorflow) (1.18.5)\r\n",
      "Requirement already satisfied: werkzeug>=0.11.15 in /opt/conda/lib/python3.7/site-packages (from tensorboard<3,>=2.3.0->tensorflow) (1.0.1)\r\n",
      "Requirement already satisfied: grpcio>=1.8.6 in /opt/conda/lib/python3.7/site-packages (from tensorflow) (1.33.2)\r\n",
      "Requirement already satisfied: requests<3,>=2.21.0 in /opt/conda/lib/python3.7/site-packages (from tensorboard<3,>=2.3.0->tensorflow) (2.23.0)\r\n",
      "Requirement already satisfied: setuptools>=41.0.0 in /opt/conda/lib/python3.7/site-packages (from tensorboard<3,>=2.3.0->tensorflow) (46.1.3.post20200325)\r\n",
      "Requirement already satisfied: wheel>=0.26 in /opt/conda/lib/python3.7/site-packages (from tensorflow) (0.34.2)\r\n",
      "Requirement already satisfied: absl-py>=0.7.0 in /opt/conda/lib/python3.7/site-packages (from tensorflow) (0.11.0)\r\n",
      "Requirement already satisfied: six>=1.12.0 in /opt/conda/lib/python3.7/site-packages (from tensorflow) (1.14.0)\r\n",
      "Requirement already satisfied: tensorboard-plugin-wit>=1.6.0 in /opt/conda/lib/python3.7/site-packages (from tensorboard<3,>=2.3.0->tensorflow) (1.7.0)\r\n",
      "Requirement already satisfied: six>=1.12.0 in /opt/conda/lib/python3.7/site-packages (from tensorflow) (1.14.0)\r\n",
      "Requirement already satisfied: pyasn1-modules>=0.2.1 in /opt/conda/lib/python3.7/site-packages (from google-auth<2,>=1.6.3->tensorboard<3,>=2.3.0->tensorflow) (0.2.7)\r\n",
      "Requirement already satisfied: setuptools>=41.0.0 in /opt/conda/lib/python3.7/site-packages (from tensorboard<3,>=2.3.0->tensorflow) (46.1.3.post20200325)\r\n",
      "Requirement already satisfied: cachetools<5.0,>=2.0.0 in /opt/conda/lib/python3.7/site-packages (from google-auth<2,>=1.6.3->tensorboard<3,>=2.3.0->tensorflow) (3.1.1)\r\n",
      "Requirement already satisfied: rsa<4.1,>=3.1.4 in /opt/conda/lib/python3.7/site-packages (from google-auth<2,>=1.6.3->tensorboard<3,>=2.3.0->tensorflow) (4.0)\r\n",
      "Requirement already satisfied: google-auth<2,>=1.6.3 in /opt/conda/lib/python3.7/site-packages (from tensorboard<3,>=2.3.0->tensorflow) (1.14.0)\r\n",
      "Requirement already satisfied: requests-oauthlib>=0.7.0 in /opt/conda/lib/python3.7/site-packages (from google-auth-oauthlib<0.5,>=0.4.1->tensorboard<3,>=2.3.0->tensorflow) (1.2.0)\r\n",
      "Requirement already satisfied: setuptools>=41.0.0 in /opt/conda/lib/python3.7/site-packages (from tensorboard<3,>=2.3.0->tensorflow) (46.1.3.post20200325)\r\n",
      "Requirement already satisfied: pyasn1<0.5.0,>=0.4.6 in /opt/conda/lib/python3.7/site-packages (from pyasn1-modules>=0.2.1->google-auth<2,>=1.6.3->tensorboard<3,>=2.3.0->tensorflow) (0.4.8)\r\n",
      "Requirement already satisfied: idna<3,>=2.5 in /opt/conda/lib/python3.7/site-packages (from requests<3,>=2.21.0->tensorboard<3,>=2.3.0->tensorflow) (2.9)\r\n",
      "Requirement already satisfied: certifi>=2017.4.17 in /opt/conda/lib/python3.7/site-packages (from requests<3,>=2.21.0->tensorboard<3,>=2.3.0->tensorflow) (2020.11.8)\r\n",
      "Requirement already satisfied: chardet<4,>=3.0.2 in /opt/conda/lib/python3.7/site-packages (from requests<3,>=2.21.0->tensorboard<3,>=2.3.0->tensorflow) (3.0.4)\r\n",
      "Requirement already satisfied: urllib3!=1.25.0,!=1.25.1,<1.26,>=1.21.1 in /opt/conda/lib/python3.7/site-packages (from requests<3,>=2.21.0->tensorboard<3,>=2.3.0->tensorflow) (1.25.9)\r\n",
      "Requirement already satisfied: oauthlib>=3.0.0 in /opt/conda/lib/python3.7/site-packages (from requests-oauthlib>=0.7.0->google-auth-oauthlib<0.5,>=0.4.1->tensorboard<3,>=2.3.0->tensorflow) (3.0.1)\r\n",
      "Requirement already satisfied: requests<3,>=2.21.0 in /opt/conda/lib/python3.7/site-packages (from tensorboard<3,>=2.3.0->tensorflow) (2.23.0)\r\n",
      "Requirement already satisfied: pyasn1<0.5.0,>=0.4.6 in /opt/conda/lib/python3.7/site-packages (from pyasn1-modules>=0.2.1->google-auth<2,>=1.6.3->tensorboard<3,>=2.3.0->tensorflow) (0.4.8)\r\n",
      "Requirement already satisfied: keras in /opt/conda/lib/python3.7/site-packages (2.4.3)\r\n",
      "Requirement already satisfied: scipy>=0.14 in /opt/conda/lib/python3.7/site-packages (from keras) (1.4.1)\r\n",
      "Requirement already satisfied: h5py in /opt/conda/lib/python3.7/site-packages (from keras) (2.10.0)\r\n",
      "Requirement already satisfied: pyyaml in /opt/conda/lib/python3.7/site-packages (from keras) (5.3.1)\r\n",
      "Requirement already satisfied: numpy>=1.9.1 in /opt/conda/lib/python3.7/site-packages (from keras) (1.18.5)\r\n",
      "Requirement already satisfied: six in /opt/conda/lib/python3.7/site-packages (from h5py->keras) (1.14.0)\r\n",
      "Requirement already satisfied: numpy>=1.9.1 in /opt/conda/lib/python3.7/site-packages (from keras) (1.18.5)\r\n",
      "Requirement already satisfied: numpy>=1.9.1 in /opt/conda/lib/python3.7/site-packages (from keras) (1.18.5)\r\n"
     ]
    }
   ],
   "source": [
    "!pip install --upgrade pip\n",
    "!pip install ftfy\n",
    "!pip install gensim\n",
    "!pip install tensorflow\n",
    "!pip install keras"
   ]
  },
  {
   "cell_type": "code",
   "execution_count": 2,
   "metadata": {
    "execution": {
     "iopub.execute_input": "2020-12-01T12:31:42.867071Z",
     "iopub.status.busy": "2020-12-01T12:31:42.866311Z",
     "iopub.status.idle": "2020-12-01T12:31:50.061098Z",
     "shell.execute_reply": "2020-12-01T12:31:50.060468Z"
    },
    "papermill": {
     "duration": 7.280043,
     "end_time": "2020-12-01T12:31:50.061274",
     "exception": false,
     "start_time": "2020-12-01T12:31:42.781231",
     "status": "completed"
    },
    "tags": []
   },
   "outputs": [],
   "source": [
    "#Para o uso geral\n",
    "import random\n",
    "import numpy as np\n",
    "import pandas as pd\n",
    "import copy \n",
    "import time\n",
    "from scipy.stats import uniform\n",
    "import matplotlib.pyplot as plt\n",
    "import seaborn as sns\n",
    "from sklearn.cluster import SpectralClustering\n",
    "import requests\n",
    "import io\n",
    "random.seed(36)\n",
    "\n",
    "#Para o processamento de textos\n",
    "from ftfy import fix_text\n",
    "import string\n",
    "import re\n",
    "from gensim.test.utils import common_texts\n",
    "from gensim.models.doc2vec import Doc2Vec, TaggedDocument\n",
    "from gensim.models.word2vec import Word2Vec\n",
    "\n",
    "#Importando funcionalidades do Scikit-Learn\n",
    "from sklearn.metrics import roc_auc_score\n",
    "from sklearn.model_selection import GridSearchCV, RandomizedSearchCV\n",
    "\n",
    "#Importando funcionalidades do Tensorflow\n",
    "import tensorflow as tf\n",
    "from tensorflow.keras import Sequential, regularizers\n",
    "from tensorflow.keras.layers import Dense\n",
    "from tensorflow.python.framework import ops\n",
    "from tensorflow.keras.callbacks import EarlyStopping\n",
    "\n",
    "#Mede o progresso quando se está dentro de um laço\n",
    "from tqdm import tqdm as tqdm"
   ]
  },
  {
   "cell_type": "markdown",
   "metadata": {
    "papermill": {
     "duration": 0.071943,
     "end_time": "2020-12-01T12:31:50.205793",
     "exception": false,
     "start_time": "2020-12-01T12:31:50.133850",
     "status": "completed"
    },
    "tags": []
   },
   "source": [
    "### Importando base de dados:"
   ]
  },
  {
   "cell_type": "code",
   "execution_count": 3,
   "metadata": {
    "execution": {
     "iopub.execute_input": "2020-12-01T12:31:50.370572Z",
     "iopub.status.busy": "2020-12-01T12:31:50.369764Z",
     "iopub.status.idle": "2020-12-01T12:31:50.795928Z",
     "shell.execute_reply": "2020-12-01T12:31:50.795257Z"
    },
    "papermill": {
     "duration": 0.517367,
     "end_time": "2020-12-01T12:31:50.796050",
     "exception": false,
     "start_time": "2020-12-01T12:31:50.278683",
     "status": "completed"
    },
    "tags": []
   },
   "outputs": [],
   "source": [
    "train = pd.read_csv(\"../input/sentiment-analysis-pmr3508/data_train.csv\")"
   ]
  },
  {
   "cell_type": "markdown",
   "metadata": {
    "papermill": {
     "duration": 0.072155,
     "end_time": "2020-12-01T12:31:50.940596",
     "exception": false,
     "start_time": "2020-12-01T12:31:50.868441",
     "status": "completed"
    },
    "tags": []
   },
   "source": [
    "- Aqui temos uma representação de um trecho do dataset e de como ele se estrutura:"
   ]
  },
  {
   "cell_type": "code",
   "execution_count": 4,
   "metadata": {
    "execution": {
     "iopub.execute_input": "2020-12-01T12:31:51.091549Z",
     "iopub.status.busy": "2020-12-01T12:31:51.090804Z",
     "iopub.status.idle": "2020-12-01T12:31:51.094381Z",
     "shell.execute_reply": "2020-12-01T12:31:51.093714Z"
    },
    "papermill": {
     "duration": 0.081884,
     "end_time": "2020-12-01T12:31:51.094539",
     "exception": false,
     "start_time": "2020-12-01T12:31:51.012655",
     "status": "completed"
    },
    "tags": []
   },
   "outputs": [
    {
     "name": "stdout",
     "output_type": "stream",
     "text": [
      "Formato do Dataset: (24984, 2)\n"
     ]
    }
   ],
   "source": [
    "print('Formato do Dataset:', train.shape)"
   ]
  },
  {
   "cell_type": "code",
   "execution_count": 5,
   "metadata": {
    "execution": {
     "iopub.execute_input": "2020-12-01T12:31:51.259596Z",
     "iopub.status.busy": "2020-12-01T12:31:51.251738Z",
     "iopub.status.idle": "2020-12-01T12:31:51.267358Z",
     "shell.execute_reply": "2020-12-01T12:31:51.267955Z"
    },
    "papermill": {
     "duration": 0.099749,
     "end_time": "2020-12-01T12:31:51.268100",
     "exception": false,
     "start_time": "2020-12-01T12:31:51.168351",
     "status": "completed"
    },
    "tags": []
   },
   "outputs": [
    {
     "data": {
      "text/html": [
       "<div>\n",
       "<style scoped>\n",
       "    .dataframe tbody tr th:only-of-type {\n",
       "        vertical-align: middle;\n",
       "    }\n",
       "\n",
       "    .dataframe tbody tr th {\n",
       "        vertical-align: top;\n",
       "    }\n",
       "\n",
       "    .dataframe thead th {\n",
       "        text-align: right;\n",
       "    }\n",
       "</style>\n",
       "<table border=\"1\" class=\"dataframe\">\n",
       "  <thead>\n",
       "    <tr style=\"text-align: right;\">\n",
       "      <th></th>\n",
       "      <th>review</th>\n",
       "      <th>positive</th>\n",
       "    </tr>\n",
       "  </thead>\n",
       "  <tbody>\n",
       "    <tr>\n",
       "      <th>0</th>\n",
       "      <td>Bromwell High is a cartoon comedy. It ran at t...</td>\n",
       "      <td>1</td>\n",
       "    </tr>\n",
       "    <tr>\n",
       "      <th>1</th>\n",
       "      <td>Homelessness (or Houselessness as George Carli...</td>\n",
       "      <td>1</td>\n",
       "    </tr>\n",
       "    <tr>\n",
       "      <th>2</th>\n",
       "      <td>Brilliant over-acting by Lesley Ann Warren. Be...</td>\n",
       "      <td>1</td>\n",
       "    </tr>\n",
       "    <tr>\n",
       "      <th>3</th>\n",
       "      <td>This is easily the most underrated film inn th...</td>\n",
       "      <td>1</td>\n",
       "    </tr>\n",
       "    <tr>\n",
       "      <th>4</th>\n",
       "      <td>This is not the typical Mel Brooks film. It wa...</td>\n",
       "      <td>1</td>\n",
       "    </tr>\n",
       "  </tbody>\n",
       "</table>\n",
       "</div>"
      ],
      "text/plain": [
       "                                              review  positive\n",
       "0  Bromwell High is a cartoon comedy. It ran at t...         1\n",
       "1  Homelessness (or Houselessness as George Carli...         1\n",
       "2  Brilliant over-acting by Lesley Ann Warren. Be...         1\n",
       "3  This is easily the most underrated film inn th...         1\n",
       "4  This is not the typical Mel Brooks film. It wa...         1"
      ]
     },
     "execution_count": 5,
     "metadata": {},
     "output_type": "execute_result"
    }
   ],
   "source": [
    "train.head()"
   ]
  },
  {
   "cell_type": "markdown",
   "metadata": {
    "papermill": {
     "duration": 0.076662,
     "end_time": "2020-12-01T12:31:51.418895",
     "exception": false,
     "start_time": "2020-12-01T12:31:51.342233",
     "status": "completed"
    },
    "tags": []
   },
   "source": [
    "Nossos dados estão divididos em uma coluna \"review\", que apresenta as avaliações de vários filmes, e uma coluna \"positive\", que indica se a avaliação foi positiva ou não. Queremos predizer a variável \"positive\" com base no texto da avaliação."
   ]
  },
  {
   "cell_type": "markdown",
   "metadata": {
    "papermill": {
     "duration": 0.073386,
     "end_time": "2020-12-01T12:31:51.566751",
     "exception": false,
     "start_time": "2020-12-01T12:31:51.493365",
     "status": "completed"
    },
    "tags": []
   },
   "source": [
    "## Preparação de dados\n",
    "\n",
    "- Vamos fazer algumas modificações e limpezas nos textos que utilizaremos para analisar o sentimento"
   ]
  },
  {
   "cell_type": "markdown",
   "metadata": {
    "papermill": {
     "duration": 0.076605,
     "end_time": "2020-12-01T12:31:51.717367",
     "exception": false,
     "start_time": "2020-12-01T12:31:51.640762",
     "status": "completed"
    },
    "tags": []
   },
   "source": [
    "### Remoção de duplicatas\n",
    "- O primeiro passo essencial é remover os dados duplicados no nosso dataset de avaliações, pois não é lógico imaginar que duas pessoas tenham tido exatamente a mesma avaliação do filme e com as mesmas palavras:"
   ]
  },
  {
   "cell_type": "code",
   "execution_count": 6,
   "metadata": {
    "execution": {
     "iopub.execute_input": "2020-12-01T12:31:51.888435Z",
     "iopub.status.busy": "2020-12-01T12:31:51.887466Z",
     "iopub.status.idle": "2020-12-01T12:31:51.979724Z",
     "shell.execute_reply": "2020-12-01T12:31:51.978997Z"
    },
    "papermill": {
     "duration": 0.187833,
     "end_time": "2020-12-01T12:31:51.979846",
     "exception": false,
     "start_time": "2020-12-01T12:31:51.792013",
     "status": "completed"
    },
    "tags": []
   },
   "outputs": [
    {
     "data": {
      "text/plain": [
       "(24888, 2)"
      ]
     },
     "execution_count": 6,
     "metadata": {},
     "output_type": "execute_result"
    }
   ],
   "source": [
    "train = train.drop_duplicates(keep='first')\n",
    "train.shape"
   ]
  },
  {
   "cell_type": "markdown",
   "metadata": {
    "papermill": {
     "duration": 0.075046,
     "end_time": "2020-12-01T12:31:52.129962",
     "exception": false,
     "start_time": "2020-12-01T12:31:52.054916",
     "status": "completed"
    },
    "tags": []
   },
   "source": [
    "Percebemos que quase 100 avaliações repetidas foram removidas."
   ]
  },
  {
   "cell_type": "markdown",
   "metadata": {
    "papermill": {
     "duration": 0.074858,
     "end_time": "2020-12-01T12:31:52.279183",
     "exception": false,
     "start_time": "2020-12-01T12:31:52.204325",
     "status": "completed"
    },
    "tags": []
   },
   "source": [
    "### Desbalanceamento\n",
    "- Podemos ver a distribuição dos sentimentos na nossa base de teste:"
   ]
  },
  {
   "cell_type": "code",
   "execution_count": 7,
   "metadata": {
    "execution": {
     "iopub.execute_input": "2020-12-01T12:31:52.446819Z",
     "iopub.status.busy": "2020-12-01T12:31:52.446031Z",
     "iopub.status.idle": "2020-12-01T12:31:52.659011Z",
     "shell.execute_reply": "2020-12-01T12:31:52.658317Z"
    },
    "papermill": {
     "duration": 0.303739,
     "end_time": "2020-12-01T12:31:52.659151",
     "exception": false,
     "start_time": "2020-12-01T12:31:52.355412",
     "status": "completed"
    },
    "tags": []
   },
   "outputs": [
    {
     "data": {
      "image/png": "[encoded data removed]",
      "text/plain": [
       "<Figure size 864x432 with 1 Axes>"
      ]
     },
     "metadata": {
      "needs_background": "light"
     },
     "output_type": "display_data"
    }
   ],
   "source": [
    "fig, ax = plt.subplots(1, 1, figsize=(12, 6))\n",
    "train.positive.value_counts().plot(kind='bar', ax = ax, color=['red', 'green'], alpha=0.7)\n",
    "labels = ['Negative', 'Positive']\n",
    "ax.set_xticklabels(labels)\n",
    "ax.set_title('Distribuição de sentimentos')\n",
    "plt.show()"
   ]
  },
  {
   "cell_type": "markdown",
   "metadata": {
    "papermill": {
     "duration": 0.075805,
     "end_time": "2020-12-01T12:31:52.811759",
     "exception": false,
     "start_time": "2020-12-01T12:31:52.735954",
     "status": "completed"
    },
    "tags": []
   },
   "source": [
    "Percebemos que não temos problemas de desbalanceamento nos dados, o que facilita o treinamento do modelo."
   ]
  },
  {
   "cell_type": "markdown",
   "metadata": {
    "papermill": {
     "duration": 0.075867,
     "end_time": "2020-12-01T12:31:52.965785",
     "exception": false,
     "start_time": "2020-12-01T12:31:52.889918",
     "status": "completed"
    },
    "tags": []
   },
   "source": [
    "### Dados faltantes\n",
    "- Precisamos verificar se temos dados faltantes:"
   ]
  },
  {
   "cell_type": "code",
   "execution_count": 8,
   "metadata": {
    "execution": {
     "iopub.execute_input": "2020-12-01T12:31:53.132241Z",
     "iopub.status.busy": "2020-12-01T12:31:53.129721Z",
     "iopub.status.idle": "2020-12-01T12:31:53.136460Z",
     "shell.execute_reply": "2020-12-01T12:31:53.135860Z"
    },
    "papermill": {
     "duration": 0.092596,
     "end_time": "2020-12-01T12:31:53.136587",
     "exception": false,
     "start_time": "2020-12-01T12:31:53.043991",
     "status": "completed"
    },
    "tags": []
   },
   "outputs": [
    {
     "data": {
      "text/plain": [
       "review      0\n",
       "positive    0\n",
       "dtype: int64"
      ]
     },
     "execution_count": 8,
     "metadata": {},
     "output_type": "execute_result"
    }
   ],
   "source": [
    "train.isnull().sum()"
   ]
  },
  {
   "cell_type": "markdown",
   "metadata": {
    "papermill": {
     "duration": 0.076286,
     "end_time": "2020-12-01T12:31:53.290323",
     "exception": false,
     "start_time": "2020-12-01T12:31:53.214037",
     "status": "completed"
    },
    "tags": []
   },
   "source": [
    "Não há dados faltantes, o que simplifica nossa preparação de dados."
   ]
  },
  {
   "cell_type": "markdown",
   "metadata": {
    "papermill": {
     "duration": 0.092597,
     "end_time": "2020-12-01T12:31:53.462278",
     "exception": false,
     "start_time": "2020-12-01T12:31:53.369681",
     "status": "completed"
    },
    "tags": []
   },
   "source": [
    "Podemos, agora, dividir nossos dados de treino em X(texto) e Y(rótulo):"
   ]
  },
  {
   "cell_type": "code",
   "execution_count": 9,
   "metadata": {
    "execution": {
     "iopub.execute_input": "2020-12-01T12:31:53.625364Z",
     "iopub.status.busy": "2020-12-01T12:31:53.624400Z",
     "iopub.status.idle": "2020-12-01T12:31:53.627416Z",
     "shell.execute_reply": "2020-12-01T12:31:53.626811Z"
    },
    "papermill": {
     "duration": 0.084283,
     "end_time": "2020-12-01T12:31:53.627554",
     "exception": false,
     "start_time": "2020-12-01T12:31:53.543271",
     "status": "completed"
    },
    "tags": []
   },
   "outputs": [],
   "source": [
    "X_train = train['review']\n",
    "Y_train = train['positive']"
   ]
  },
  {
   "cell_type": "markdown",
   "metadata": {
    "papermill": {
     "duration": 0.077839,
     "end_time": "2020-12-01T12:31:53.781608",
     "exception": false,
     "start_time": "2020-12-01T12:31:53.703769",
     "status": "completed"
    },
    "tags": []
   },
   "source": [
    "### Limpeza e pré-processamento de dados\n",
    "- Agora, vamos definir uma função para organizar o nosso texto e fazer uma limpeza em caracteres e pontuações indesejadas, além de passar todo o texto para letra minúscula. A função a seguir será copiada do notebook  \"Introdução ao Doc2Vec\"  fornecido (Créditos para Felipe Maia polo):"
   ]
  },
  {
   "cell_type": "code",
   "execution_count": 10,
   "metadata": {
    "execution": {
     "iopub.execute_input": "2020-12-01T12:31:53.942810Z",
     "iopub.status.busy": "2020-12-01T12:31:53.942024Z",
     "iopub.status.idle": "2020-12-01T12:31:53.945670Z",
     "shell.execute_reply": "2020-12-01T12:31:53.944915Z"
    },
    "papermill": {
     "duration": 0.08785,
     "end_time": "2020-12-01T12:31:53.945799",
     "exception": false,
     "start_time": "2020-12-01T12:31:53.857949",
     "status": "completed"
    },
    "tags": []
   },
   "outputs": [],
   "source": [
    "def clean(text):\n",
    "    txt=text.replace(\"<br />\",\" \") #retirando tags\n",
    "    txt=fix_text(txt) #consertando Mojibakes (Ver https://pypi.org/project/ftfy/)\n",
    "    txt=txt.lower() #passando tudo para minúsculo\n",
    "    txt=txt.translate(str.maketrans('', '', string.punctuation)) #retirando toda pontuação\n",
    "    txt=txt.replace(\" — \", \" \") #retirando hífens\n",
    "    txt=re.sub(\"\\d+\", ' <number> ', txt) #colocando um token especial para os números\n",
    "    txt=re.sub(' +', ' ', txt) #deletando espaços extras\n",
    "    return txt"
   ]
  },
  {
   "cell_type": "markdown",
   "metadata": {
    "papermill": {
     "duration": 0.077308,
     "end_time": "2020-12-01T12:31:54.103048",
     "exception": false,
     "start_time": "2020-12-01T12:31:54.025740",
     "status": "completed"
    },
    "tags": []
   },
   "source": [
    "- Aplicando a limpeza nos nossos textos da base de teste:"
   ]
  },
  {
   "cell_type": "code",
   "execution_count": 11,
   "metadata": {
    "execution": {
     "iopub.execute_input": "2020-12-01T12:31:54.265371Z",
     "iopub.status.busy": "2020-12-01T12:31:54.264481Z",
     "iopub.status.idle": "2020-12-01T12:31:54.269247Z",
     "shell.execute_reply": "2020-12-01T12:31:54.268593Z"
    },
    "papermill": {
     "duration": 0.089826,
     "end_time": "2020-12-01T12:31:54.269374",
     "exception": false,
     "start_time": "2020-12-01T12:31:54.179548",
     "status": "completed"
    },
    "tags": []
   },
   "outputs": [
    {
     "data": {
      "text/plain": [
       "0    Bromwell High is a cartoon comedy. It ran at t...\n",
       "1    Homelessness (or Houselessness as George Carli...\n",
       "2    Brilliant over-acting by Lesley Ann Warren. Be...\n",
       "3    This is easily the most underrated film inn th...\n",
       "4    This is not the typical Mel Brooks film. It wa...\n",
       "Name: review, dtype: object"
      ]
     },
     "execution_count": 11,
     "metadata": {},
     "output_type": "execute_result"
    }
   ],
   "source": [
    "X_train.head()"
   ]
  },
  {
   "cell_type": "code",
   "execution_count": 12,
   "metadata": {
    "execution": {
     "iopub.execute_input": "2020-12-01T12:31:54.498881Z",
     "iopub.status.busy": "2020-12-01T12:31:54.471885Z",
     "iopub.status.idle": "2020-12-01T12:33:02.815028Z",
     "shell.execute_reply": "2020-12-01T12:33:02.814414Z"
    },
    "papermill": {
     "duration": 68.467481,
     "end_time": "2020-12-01T12:33:02.815181",
     "exception": false,
     "start_time": "2020-12-01T12:31:54.347700",
     "status": "completed"
    },
    "tags": []
   },
   "outputs": [],
   "source": [
    "X_train = X_train.apply(clean)"
   ]
  },
  {
   "cell_type": "code",
   "execution_count": 13,
   "metadata": {
    "execution": {
     "iopub.execute_input": "2020-12-01T12:33:02.985046Z",
     "iopub.status.busy": "2020-12-01T12:33:02.984186Z",
     "iopub.status.idle": "2020-12-01T12:33:02.987782Z",
     "shell.execute_reply": "2020-12-01T12:33:02.988367Z"
    },
    "papermill": {
     "duration": 0.094839,
     "end_time": "2020-12-01T12:33:02.988512",
     "exception": false,
     "start_time": "2020-12-01T12:33:02.893673",
     "status": "completed"
    },
    "tags": []
   },
   "outputs": [
    {
     "data": {
      "text/plain": [
       "0    bromwell high is a cartoon comedy it ran at th...\n",
       "1    homelessness or houselessness as george carlin...\n",
       "2    brilliant overacting by lesley ann warren best...\n",
       "3    this is easily the most underrated film inn th...\n",
       "4    this is not the typical mel brooks film it was...\n",
       "Name: review, dtype: object"
      ]
     },
     "execution_count": 13,
     "metadata": {},
     "output_type": "execute_result"
    }
   ],
   "source": [
    "X_train.head()"
   ]
  },
  {
   "cell_type": "markdown",
   "metadata": {
    "papermill": {
     "duration": 0.077412,
     "end_time": "2020-12-01T12:33:03.144664",
     "exception": false,
     "start_time": "2020-12-01T12:33:03.067252",
     "status": "completed"
    },
    "tags": []
   },
   "source": [
    "### Tokenização dos textos\n",
    "\n",
    "- Vamos, então, tokenizar os textos, tranformando cada avaliação(texto) em um vetor de palavras."
   ]
  },
  {
   "cell_type": "code",
   "execution_count": 14,
   "metadata": {
    "execution": {
     "iopub.execute_input": "2020-12-01T12:33:03.307235Z",
     "iopub.status.busy": "2020-12-01T12:33:03.306494Z",
     "iopub.status.idle": "2020-12-01T12:33:04.207588Z",
     "shell.execute_reply": "2020-12-01T12:33:04.206851Z"
    },
    "papermill": {
     "duration": 0.98451,
     "end_time": "2020-12-01T12:33:04.207708",
     "exception": false,
     "start_time": "2020-12-01T12:33:03.223198",
     "status": "completed"
    },
    "tags": []
   },
   "outputs": [
    {
     "data": {
      "text/plain": [
       "<bound method NDFrame.head of 0        [bromwell, high, is, a, cartoon, comedy, it, r...\n",
       "1        [homelessness, or, houselessness, as, george, ...\n",
       "2        [brilliant, overacting, by, lesley, ann, warre...\n",
       "3        [this, is, easily, the, most, underrated, film...\n",
       "4        [this, is, not, the, typical, mel, brooks, fil...\n",
       "                               ...                        \n",
       "24979    [towards, the, end, of, the, movie, i, felt, i...\n",
       "24980    [this, is, the, kind, of, movie, that, my, ene...\n",
       "24981    [i, saw, descent, last, night, at, the, stockh...\n",
       "24982    [some, films, that, you, pick, up, for, a, pou...\n",
       "24983    [this, is, one, of, the, dumbest, films, ive, ...\n",
       "Name: review, Length: 24888, dtype: object>"
      ]
     },
     "execution_count": 14,
     "metadata": {},
     "output_type": "execute_result"
    }
   ],
   "source": [
    "X_train = X_train.apply(lambda phrase: phrase.split())\n",
    "X_train.head"
   ]
  },
  {
   "cell_type": "markdown",
   "metadata": {
    "papermill": {
     "duration": 0.07875,
     "end_time": "2020-12-01T12:33:04.366970",
     "exception": false,
     "start_time": "2020-12-01T12:33:04.288220",
     "status": "completed"
    },
    "tags": []
   },
   "source": [
    "## Treino e aplicação do modelo Doc2Vec\n",
    "\n",
    "- Feita a limpeza dos textos, podemos processá-lo com o modelo Doc2Vec, sendo que esse modelo de embedding converte cada uma das nossas análises em vetores \"numéricos\" já de um mesmo tamanho, alterando sua representação de forma a tornar a predição muito mais fácil. Para isso, precisamos importar o modelo Doc2Vec pré-treinado."
   ]
  },
  {
   "cell_type": "code",
   "execution_count": 15,
   "metadata": {
    "execution": {
     "iopub.execute_input": "2020-12-01T12:33:04.530453Z",
     "iopub.status.busy": "2020-12-01T12:33:04.529573Z",
     "iopub.status.idle": "2020-12-01T12:33:05.365796Z",
     "shell.execute_reply": "2020-12-01T12:33:05.365176Z"
    },
    "papermill": {
     "duration": 0.919411,
     "end_time": "2020-12-01T12:33:05.365926",
     "exception": false,
     "start_time": "2020-12-01T12:33:04.446515",
     "status": "completed"
    },
    "tags": []
   },
   "outputs": [],
   "source": [
    "d2v = Doc2Vec.load(\"../input/sentiment-analysis-pmr3508/doc2vec\")"
   ]
  },
  {
   "cell_type": "markdown",
   "metadata": {
    "papermill": {
     "duration": 0.077926,
     "end_time": "2020-12-01T12:33:05.523182",
     "exception": false,
     "start_time": "2020-12-01T12:33:05.445256",
     "status": "completed"
    },
    "tags": []
   },
   "source": [
    "- Para a aplicação do **embedding** modelo na nossa base de dados, utilizaremos a função disponibilizada no notebook de referência (Felipe Maia Polo):"
   ]
  },
  {
   "cell_type": "code",
   "execution_count": 16,
   "metadata": {
    "execution": {
     "iopub.execute_input": "2020-12-01T12:33:05.759081Z",
     "iopub.status.busy": "2020-12-01T12:33:05.758053Z",
     "iopub.status.idle": "2020-12-01T12:33:05.761618Z",
     "shell.execute_reply": "2020-12-01T12:33:05.760879Z"
    },
    "papermill": {
     "duration": 0.153307,
     "end_time": "2020-12-01T12:33:05.761779",
     "exception": false,
     "start_time": "2020-12-01T12:33:05.608472",
     "status": "completed"
    },
    "tags": []
   },
   "outputs": [],
   "source": [
    "def emb(txt, model, normalize=False): \n",
    "    model.random.seed(42)\n",
    "    x=model.infer_vector(txt, steps=20)\n",
    "    \n",
    "    if normalize: return(x/np.sqrt(x@x))\n",
    "    else: return(x)"
   ]
  },
  {
   "cell_type": "markdown",
   "metadata": {
    "papermill": {
     "duration": 0.079254,
     "end_time": "2020-12-01T12:33:05.931874",
     "exception": false,
     "start_time": "2020-12-01T12:33:05.852620",
     "status": "completed"
    },
    "tags": []
   },
   "source": [
    "Antes de aplicar nos nossos textos, precisamos transformar nosso X_train em uma lista. Em seguida, basta utilizar a função definida acima:"
   ]
  },
  {
   "cell_type": "code",
   "execution_count": 17,
   "metadata": {
    "execution": {
     "iopub.execute_input": "2020-12-01T12:33:06.099470Z",
     "iopub.status.busy": "2020-12-01T12:33:06.098654Z",
     "iopub.status.idle": "2020-12-01T12:37:07.500954Z",
     "shell.execute_reply": "2020-12-01T12:37:07.499452Z"
    },
    "papermill": {
     "duration": 241.489634,
     "end_time": "2020-12-01T12:37:07.501100",
     "exception": false,
     "start_time": "2020-12-01T12:33:06.011466",
     "status": "completed"
    },
    "tags": []
   },
   "outputs": [],
   "source": [
    "#Passando o dataset para lista\n",
    "X_train = X_train.to_list()\n",
    "\n",
    "#Aplicando a função\n",
    "X_train = [emb(x, d2v) for x in X_train] \n",
    "X_train = np.array(X_train)"
   ]
  },
  {
   "cell_type": "code",
   "execution_count": 18,
   "metadata": {
    "execution": {
     "iopub.execute_input": "2020-12-01T12:37:07.666155Z",
     "iopub.status.busy": "2020-12-01T12:37:07.665282Z",
     "iopub.status.idle": "2020-12-01T12:37:07.669431Z",
     "shell.execute_reply": "2020-12-01T12:37:07.669993Z"
    },
    "papermill": {
     "duration": 0.088794,
     "end_time": "2020-12-01T12:37:07.670161",
     "exception": false,
     "start_time": "2020-12-01T12:37:07.581367",
     "status": "completed"
    },
    "tags": []
   },
   "outputs": [
    {
     "data": {
      "text/plain": [
       "(24888, 50)"
      ]
     },
     "execution_count": 18,
     "metadata": {},
     "output_type": "execute_result"
    }
   ],
   "source": [
    "X_train.shape"
   ]
  },
  {
   "cell_type": "code",
   "execution_count": 19,
   "metadata": {
    "execution": {
     "iopub.execute_input": "2020-12-01T12:37:07.837445Z",
     "iopub.status.busy": "2020-12-01T12:37:07.836497Z",
     "iopub.status.idle": "2020-12-01T12:37:07.841220Z",
     "shell.execute_reply": "2020-12-01T12:37:07.840603Z"
    },
    "papermill": {
     "duration": 0.090997,
     "end_time": "2020-12-01T12:37:07.841348",
     "exception": false,
     "start_time": "2020-12-01T12:37:07.750351",
     "status": "completed"
    },
    "tags": []
   },
   "outputs": [
    {
     "data": {
      "text/plain": [
       "array([[-0.18215555,  0.0839314 , -0.82176876, ...,  0.46831018,\n",
       "         0.67071396,  0.03461775],\n",
       "       [ 0.45688832,  0.18072858, -1.7777513 , ...,  0.13382944,\n",
       "        -0.02281002,  1.4376358 ],\n",
       "       [-0.5297115 ,  0.5718761 ,  0.374979  , ..., -0.06649754,\n",
       "         0.71145123,  0.00474193],\n",
       "       ...,\n",
       "       [-1.2499707 , -0.7048726 , -0.55053234, ..., -0.15983972,\n",
       "        -0.1156728 , -0.30150646],\n",
       "       [-0.18022293,  0.14282005, -0.313455  , ...,  0.48528382,\n",
       "        -0.08451959, -0.16396528],\n",
       "       [-0.992572  ,  0.48401216, -0.12663089, ..., -0.25588062,\n",
       "         0.4841671 ,  0.12823385]], dtype=float32)"
      ]
     },
     "execution_count": 19,
     "metadata": {},
     "output_type": "execute_result"
    }
   ],
   "source": [
    "X_train"
   ]
  },
  {
   "cell_type": "markdown",
   "metadata": {
    "papermill": {
     "duration": 0.080647,
     "end_time": "2020-12-01T12:37:08.002812",
     "exception": false,
     "start_time": "2020-12-01T12:37:07.922165",
     "status": "completed"
    },
    "tags": []
   },
   "source": [
    "Agora, conseguimos notar que cada avaliação de filme é dada por uma representação númerica (um vetor que armazena 50 valores). Esse números serão utilizados para buscar similaridade entre as palavras e decidir se a avaliação é mais positiva ou negativa."
   ]
  },
  {
   "cell_type": "markdown",
   "metadata": {
    "papermill": {
     "duration": 0.081004,
     "end_time": "2020-12-01T12:37:08.165489",
     "exception": false,
     "start_time": "2020-12-01T12:37:08.084485",
     "status": "completed"
    },
    "tags": []
   },
   "source": [
    "## Dados de teste\n",
    "- De acordo com o notebook de referência, é recomendado que a função de limpeza utilizada no do modelo de representação, ou seja, no Doc2Vec, seja idêntica à utilizada no treinamento do modelo de representação. Assim, iremos aplicar os mesmos exatos passos no set de teste:"
   ]
  },
  {
   "cell_type": "code",
   "execution_count": 20,
   "metadata": {
    "execution": {
     "iopub.execute_input": "2020-12-01T12:37:08.337601Z",
     "iopub.status.busy": "2020-12-01T12:37:08.336849Z",
     "iopub.status.idle": "2020-12-01T12:39:41.081097Z",
     "shell.execute_reply": "2020-12-01T12:39:41.081748Z"
    },
    "papermill": {
     "duration": 152.83509,
     "end_time": "2020-12-01T12:39:41.081915",
     "exception": false,
     "start_time": "2020-12-01T12:37:08.246825",
     "status": "completed"
    },
    "tags": []
   },
   "outputs": [],
   "source": [
    "# Importando os dados de teste\n",
    "val = pd.read_csv(\"../input/sentiment-analysis-pmr3508/data_test1.csv\")\n",
    "\n",
    "# Dividindo o dataset\n",
    "X_val = val[\"review\"]\n",
    "Y_val = val[\"positive\"]\n",
    "\n",
    "# Aplicação da limpeza e pré-processamento\n",
    "X_val = X_val.apply(clean)\n",
    "X_val = X_val.apply(lambda x: x.split())\n",
    "\n",
    "# Aplicação do embedding\n",
    "X_val = X_val.to_list()\n",
    "X_val = [emb(x, d2v) for x in X_val] \n",
    "X_val = np.array(X_val)"
   ]
  },
  {
   "cell_type": "markdown",
   "metadata": {
    "papermill": {
     "duration": 0.081039,
     "end_time": "2020-12-01T12:39:41.244500",
     "exception": false,
     "start_time": "2020-12-01T12:39:41.163461",
     "status": "completed"
    },
    "tags": []
   },
   "source": [
    "O resultado obtido é o mesmo do conjunto de treino:"
   ]
  },
  {
   "cell_type": "code",
   "execution_count": 21,
   "metadata": {
    "execution": {
     "iopub.execute_input": "2020-12-01T12:39:41.412504Z",
     "iopub.status.busy": "2020-12-01T12:39:41.411556Z",
     "iopub.status.idle": "2020-12-01T12:39:41.416158Z",
     "shell.execute_reply": "2020-12-01T12:39:41.415454Z"
    },
    "papermill": {
     "duration": 0.090837,
     "end_time": "2020-12-01T12:39:41.416274",
     "exception": false,
     "start_time": "2020-12-01T12:39:41.325437",
     "status": "completed"
    },
    "tags": []
   },
   "outputs": [
    {
     "data": {
      "text/plain": [
       "array([[-1.6221144 , -0.7478406 , -0.41051403, ..., -0.5644162 ,\n",
       "         0.36998114,  0.24354668],\n",
       "       [-0.42435348,  0.17226201, -0.8129823 , ...,  1.335386  ,\n",
       "        -0.36954218, -0.9552513 ],\n",
       "       [-1.2036512 ,  1.5038751 , -1.1739222 , ..., -0.635223  ,\n",
       "        -0.8770969 ,  0.41741407],\n",
       "       ...,\n",
       "       [ 0.19926983, -0.02359951, -0.01505094, ...,  0.20906529,\n",
       "         0.83229554,  0.04228503],\n",
       "       [-0.73111254,  0.0387092 , -0.3073405 , ..., -0.05040532,\n",
       "         1.0691316 , -0.7216944 ],\n",
       "       [-0.2703734 , -0.84299713,  0.31448197, ...,  0.06219134,\n",
       "        -0.8032088 ,  0.58844364]], dtype=float32)"
      ]
     },
     "execution_count": 21,
     "metadata": {},
     "output_type": "execute_result"
    }
   ],
   "source": [
    "X_val"
   ]
  },
  {
   "cell_type": "markdown",
   "metadata": {
    "papermill": {
     "duration": 0.081583,
     "end_time": "2020-12-01T12:39:41.579461",
     "exception": false,
     "start_time": "2020-12-01T12:39:41.497878",
     "status": "completed"
    },
    "tags": []
   },
   "source": [
    "## Redes neurais\n",
    "- Adiante, como pedido na tarefa, iremos criar e treinar duas redes neurais para a tarefa de classificação, otimizando os hiperparâmetros: quantidade de neurônios na *hidden layer*, seu coeficiente de regularização e o tipo da taxa de aprendizado com o *RandomizedSearchCV*. A primeira rede neural apresentará uma *hidden layer* e a segunda, duas *hidden layers*. Para criar as redes, utilizaremos as bibliotecas Scikit-Learn e TensorFlow:\n",
    "\n",
    "Obs.: A métrica utilizada será a AUC, a área embaixo do gráfico da curva ROC."
   ]
  },
  {
   "cell_type": "markdown",
   "metadata": {
    "papermill": {
     "duration": 0.08069,
     "end_time": "2020-12-01T12:39:41.741631",
     "exception": false,
     "start_time": "2020-12-01T12:39:41.660941",
     "status": "completed"
    },
    "tags": []
   },
   "source": [
    "### Rede Neural com 1 Camada Oculta (Scikit-Learn)\n",
    "- Utilizaremos o pacote *MLPClassifier* da biblioteca *Scikit-Learn*, com a opção early_stopping ativada, que finaliza o treinamento quando já não há melhoria da acurácia, evitando que ocorra overfitting:"
   ]
  },
  {
   "cell_type": "code",
   "execution_count": 22,
   "metadata": {
    "execution": {
     "iopub.execute_input": "2020-12-01T12:39:41.912503Z",
     "iopub.status.busy": "2020-12-01T12:39:41.911728Z",
     "iopub.status.idle": "2020-12-01T12:40:40.010618Z",
     "shell.execute_reply": "2020-12-01T12:40:40.011356Z"
    },
    "papermill": {
     "duration": 58.188903,
     "end_time": "2020-12-01T12:40:40.011585",
     "exception": false,
     "start_time": "2020-12-01T12:39:41.822682",
     "status": "completed"
    },
    "tags": []
   },
   "outputs": [
    {
     "name": "stdout",
     "output_type": "stream",
     "text": [
      "Fitting 2 folds for each of 25 candidates, totalling 50 fits\n"
     ]
    },
    {
     "name": "stderr",
     "output_type": "stream",
     "text": [
      "[Parallel(n_jobs=-1)]: Using backend LokyBackend with 4 concurrent workers.\n",
      "[Parallel(n_jobs=-1)]: Done  33 tasks      | elapsed:   39.4s\n",
      "[Parallel(n_jobs=-1)]: Done  50 out of  50 | elapsed:   52.5s finished\n"
     ]
    }
   ],
   "source": [
    "from sklearn.neural_network import MLPClassifier\n",
    "from sklearn.model_selection import RandomizedSearchCV\n",
    "from scipy.stats import loguniform as sp_loguniform\n",
    "\n",
    "mlp_1l = MLPClassifier(random_state=40, early_stopping=True)\n",
    "\n",
    "# Hiperparâmetros a serem otimizados\n",
    "hyperparams = {'hidden_layer_sizes': [(2 ** i) for i in np.arange(6, 10)],\n",
    "               'alpha': sp_loguniform(0.000001, 0.1),\n",
    "               'learning_rate': ['constant','adaptive']}\n",
    "\n",
    "# Busca de Hiperparâmetros\n",
    "mlp_clf_1l = RandomizedSearchCV(mlp_1l, hyperparams, scoring='roc_auc', n_iter=25, cv=2, n_jobs=-1, random_state=0, verbose=2)\n",
    "search_mlp1l = mlp_clf_1l.fit(X_train, Y_train)"
   ]
  },
  {
   "cell_type": "code",
   "execution_count": 23,
   "metadata": {
    "execution": {
     "iopub.execute_input": "2020-12-01T12:40:40.189837Z",
     "iopub.status.busy": "2020-12-01T12:40:40.188967Z",
     "iopub.status.idle": "2020-12-01T12:40:40.194076Z",
     "shell.execute_reply": "2020-12-01T12:40:40.193265Z"
    },
    "papermill": {
     "duration": 0.094401,
     "end_time": "2020-12-01T12:40:40.194244",
     "exception": false,
     "start_time": "2020-12-01T12:40:40.099843",
     "status": "completed"
    },
    "tags": []
   },
   "outputs": [
    {
     "name": "stdout",
     "output_type": "stream",
     "text": [
      "Melhores parâmetros:  {'alpha': 2.1027036109989297e-05, 'hidden_layer_sizes': 512, 'learning_rate': 'constant'}\n",
      "Melhor score:  0.8885971135321222\n"
     ]
    }
   ],
   "source": [
    "print(\"Melhores parâmetros: \", search_mlp1l.best_params_); print(\"Melhor score: \", search_mlp1l.best_score_)"
   ]
  },
  {
   "cell_type": "markdown",
   "metadata": {
    "papermill": {
     "duration": 0.083125,
     "end_time": "2020-12-01T12:40:40.361798",
     "exception": false,
     "start_time": "2020-12-01T12:40:40.278673",
     "status": "completed"
    },
    "tags": []
   },
   "source": [
    "### Rede Neural com 2 Camadas Oculta (Scikit-Learn)\n",
    "- Também iremos utilizar o pacote *MLPClassifier* da biblioteca *Scikit-Learn*, mas agora com uma *hidden_layer* a mais:"
   ]
  },
  {
   "cell_type": "code",
   "execution_count": 24,
   "metadata": {
    "execution": {
     "iopub.execute_input": "2020-12-01T12:40:40.540015Z",
     "iopub.status.busy": "2020-12-01T12:40:40.538945Z",
     "iopub.status.idle": "2020-12-01T12:42:59.745974Z",
     "shell.execute_reply": "2020-12-01T12:42:59.746713Z"
    },
    "papermill": {
     "duration": 139.30174,
     "end_time": "2020-12-01T12:42:59.746913",
     "exception": false,
     "start_time": "2020-12-01T12:40:40.445173",
     "status": "completed"
    },
    "tags": []
   },
   "outputs": [
    {
     "name": "stdout",
     "output_type": "stream",
     "text": [
      "Fitting 2 folds for each of 25 candidates, totalling 50 fits\n"
     ]
    },
    {
     "name": "stderr",
     "output_type": "stream",
     "text": [
      "[Parallel(n_jobs=-1)]: Using backend LokyBackend with 4 concurrent workers.\n",
      "[Parallel(n_jobs=-1)]: Done  33 tasks      | elapsed:  1.4min\n",
      "[Parallel(n_jobs=-1)]: Done  50 out of  50 | elapsed:  1.9min finished\n"
     ]
    }
   ],
   "source": [
    "mlp_2l = MLPClassifier(random_state=40, early_stopping=True)\n",
    "\n",
    "# Hiperparâmetros a serem otimizados\n",
    "hyperparams = {'hidden_layer_sizes': [(2 ** i, 2 ** j) for j in np.arange(6, 10) for i in np.arange(6, 10)],\n",
    "               'alpha': sp_loguniform(0.000001, 0.1),\n",
    "               'learning_rate': ['constant','adaptive']}\n",
    "\n",
    "# Busca de Hiperparâmetros\n",
    "mlp_clf_2l = RandomizedSearchCV(mlp_2l, hyperparams, scoring='roc_auc', n_iter=25, cv=2, n_jobs=-1, random_state=0, verbose=2)\n",
    "search_mlp2l = mlp_clf_2l.fit(X_train, Y_train)"
   ]
  },
  {
   "cell_type": "code",
   "execution_count": 25,
   "metadata": {
    "execution": {
     "iopub.execute_input": "2020-12-01T12:42:59.927748Z",
     "iopub.status.busy": "2020-12-01T12:42:59.926915Z",
     "iopub.status.idle": "2020-12-01T12:42:59.930523Z",
     "shell.execute_reply": "2020-12-01T12:42:59.931207Z"
    },
    "papermill": {
     "duration": 0.095272,
     "end_time": "2020-12-01T12:42:59.931371",
     "exception": false,
     "start_time": "2020-12-01T12:42:59.836099",
     "status": "completed"
    },
    "tags": []
   },
   "outputs": [
    {
     "name": "stdout",
     "output_type": "stream",
     "text": [
      "Melhores parâmetros:  {'alpha': 5.209144886889889e-06, 'hidden_layer_sizes': (512, 512), 'learning_rate': 'constant'}\n",
      "Melhor score:  0.8895870214708199\n"
     ]
    }
   ],
   "source": [
    "print(\"Melhores parâmetros: \", search_mlp2l.best_params_); print(\"Melhor score: \", search_mlp2l.best_score_)"
   ]
  },
  {
   "cell_type": "markdown",
   "metadata": {
    "papermill": {
     "duration": 0.086593,
     "end_time": "2020-12-01T12:43:00.105172",
     "exception": false,
     "start_time": "2020-12-01T12:43:00.018579",
     "status": "completed"
    },
    "tags": []
   },
   "source": [
    "### Rede Neural com 2 Camadas Oculta (TensorFlow)\n",
    "- Iremos criar uma outra rede neural com 2 *hidden_layers*, mas dessa vez vamos utilizar a biblioteca TensorFlow e Keras, seguindo as instruções fornecidas no notebook de referência (Felipe Maia Polo). \n",
    "- As estratégias de regularização que utilizaremos neste exemplo são de dois tipos: restrições para valores dos pesos da rede, com uma mistura das penalizações dos tipos  l1  e  l2  ('Elastic Net'), e early stopping. Logo, teremos quatro hiperparâmetros para otimizar: os hiperparâmetros das estratégias de regularização e o número de neurônios nas duas camadas ocultas. Em relação ao early stopping, vamos fixar que se a métrica AUC (ROC) não melhorar em 40 iterações seguidas no conjunto de teste, o treinamento é interrompido, assim como nas duas primeiras redes.\n",
    "- Para fazer a escolha dos melhores valores, utilizaremos a abordagem da busca aleatória (Random Search). Vamos então criar um dataframe com n_iter combinações aleatórias para os hiperparâmetros (tirando o número de iterações) e que testaremos a seguir:"
   ]
  },
  {
   "cell_type": "code",
   "execution_count": 26,
   "metadata": {
    "execution": {
     "iopub.execute_input": "2020-12-01T12:43:00.288601Z",
     "iopub.status.busy": "2020-12-01T12:43:00.287669Z",
     "iopub.status.idle": "2020-12-01T12:43:00.290152Z",
     "shell.execute_reply": "2020-12-01T12:43:00.290742Z"
    },
    "papermill": {
     "duration": 0.099886,
     "end_time": "2020-12-01T12:43:00.290885",
     "exception": false,
     "start_time": "2020-12-01T12:43:00.190999",
     "status": "completed"
    },
    "tags": []
   },
   "outputs": [],
   "source": [
    "n_iter=100\n",
    "\n",
    "neurons=[]\n",
    "pen=[]\n",
    "\n",
    "#Sorteando valores\n",
    "for i in range(n_iter):\n",
    "    n1=random.randrange(25, 100, 1)\n",
    "    n2=random.randrange(20, n1, 1)\n",
    "    neurons.append((n1, n2))\n",
    "    \n",
    "    l1=random.choice([0, 1e-15, 1e-10, 1e-5, 1e-3, 1e-2, 1e-1])\n",
    "    l2=random.choice([0, 1e-15, 1e-10, 1e-5, 1e-3, 1e-2, 1e-1])\n",
    "    pen.append((l1, l2))"
   ]
  },
  {
   "cell_type": "markdown",
   "metadata": {
    "papermill": {
     "duration": 0.085821,
     "end_time": "2020-12-01T12:43:00.462825",
     "exception": false,
     "start_time": "2020-12-01T12:43:00.377004",
     "status": "completed"
    },
    "tags": []
   },
   "source": [
    "- Agora, vamos criar um dataframe com as combinações obtidas por meio do sorteio:"
   ]
  },
  {
   "cell_type": "code",
   "execution_count": 27,
   "metadata": {
    "execution": {
     "iopub.execute_input": "2020-12-01T12:43:00.656943Z",
     "iopub.status.busy": "2020-12-01T12:43:00.656050Z",
     "iopub.status.idle": "2020-12-01T12:43:00.660863Z",
     "shell.execute_reply": "2020-12-01T12:43:00.660148Z"
    },
    "papermill": {
     "duration": 0.112301,
     "end_time": "2020-12-01T12:43:00.660995",
     "exception": false,
     "start_time": "2020-12-01T12:43:00.548694",
     "status": "completed"
    },
    "tags": []
   },
   "outputs": [
    {
     "data": {
      "text/html": [
       "<div>\n",
       "<style scoped>\n",
       "    .dataframe tbody tr th:only-of-type {\n",
       "        vertical-align: middle;\n",
       "    }\n",
       "\n",
       "    .dataframe tbody tr th {\n",
       "        vertical-align: top;\n",
       "    }\n",
       "\n",
       "    .dataframe thead th {\n",
       "        text-align: right;\n",
       "    }\n",
       "</style>\n",
       "<table border=\"1\" class=\"dataframe\">\n",
       "  <thead>\n",
       "    <tr style=\"text-align: right;\">\n",
       "      <th></th>\n",
       "      <th>neurons</th>\n",
       "      <th>penalties</th>\n",
       "      <th>iterations</th>\n",
       "      <th>auc</th>\n",
       "    </tr>\n",
       "  </thead>\n",
       "  <tbody>\n",
       "    <tr>\n",
       "      <th>0</th>\n",
       "      <td>(61, 25)</td>\n",
       "      <td>(0, 0.001)</td>\n",
       "      <td>None</td>\n",
       "      <td>None</td>\n",
       "    </tr>\n",
       "    <tr>\n",
       "      <th>1</th>\n",
       "      <td>(47, 27)</td>\n",
       "      <td>(1e-10, 0.01)</td>\n",
       "      <td>None</td>\n",
       "      <td>None</td>\n",
       "    </tr>\n",
       "    <tr>\n",
       "      <th>2</th>\n",
       "      <td>(80, 43)</td>\n",
       "      <td>(0.001, 1e-10)</td>\n",
       "      <td>None</td>\n",
       "      <td>None</td>\n",
       "    </tr>\n",
       "    <tr>\n",
       "      <th>3</th>\n",
       "      <td>(94, 29)</td>\n",
       "      <td>(0.001, 1e-05)</td>\n",
       "      <td>None</td>\n",
       "      <td>None</td>\n",
       "    </tr>\n",
       "    <tr>\n",
       "      <th>4</th>\n",
       "      <td>(87, 69)</td>\n",
       "      <td>(1e-10, 0.1)</td>\n",
       "      <td>None</td>\n",
       "      <td>None</td>\n",
       "    </tr>\n",
       "  </tbody>\n",
       "</table>\n",
       "</div>"
      ],
      "text/plain": [
       "    neurons       penalties iterations   auc\n",
       "0  (61, 25)      (0, 0.001)       None  None\n",
       "1  (47, 27)   (1e-10, 0.01)       None  None\n",
       "2  (80, 43)  (0.001, 1e-10)       None  None\n",
       "3  (94, 29)  (0.001, 1e-05)       None  None\n",
       "4  (87, 69)    (1e-10, 0.1)       None  None"
      ]
     },
     "execution_count": 27,
     "metadata": {},
     "output_type": "execute_result"
    }
   ],
   "source": [
    "params = {'neurons': neurons, 'penalties': pen, 'iterations': n_iter*[None], 'auc': n_iter*[None]}\n",
    "params = pd.DataFrame(params)\n",
    "params = params[[\"neurons\", \"penalties\", \"iterations\", \"auc\"]]\n",
    "\n",
    "params.head()"
   ]
  },
  {
   "cell_type": "markdown",
   "metadata": {
    "papermill": {
     "duration": 0.086496,
     "end_time": "2020-12-01T12:43:00.836700",
     "exception": false,
     "start_time": "2020-12-01T12:43:00.750204",
     "status": "completed"
    },
    "tags": []
   },
   "source": [
    "- Note que cada elemento da coluna 'neurons' é uma tupla, que na primeira entrada nos dá o número de neurônios na primeira camada oculta e na segunda entrada nos dá o número de neurônios na segunda camada oculta. Por outro lado, cada elemento da coluna 'penalties' é uma tupla, que na primeira entrada nos dá o valor referente à regularização  l1  e na segunda entrada nos dá o valor referente à regularização  l2 .\n",
    "- Na coluna 'iterations' vamos guardar o número de iterações realizadas (por conta do early stopping) e na coluna 'auc' vamos guardar a AUC (ROC) estimada no conjunto de validação."
   ]
  },
  {
   "cell_type": "markdown",
   "metadata": {
    "papermill": {
     "duration": 0.086343,
     "end_time": "2020-12-01T12:43:01.013991",
     "exception": false,
     "start_time": "2020-12-01T12:43:00.927648",
     "status": "completed"
    },
    "tags": []
   },
   "source": [
    "- Abaixo vamos criar uma função que cria modelos de redes neurais do Keras prontos para serem treinados, o que facilitará na hora de fazer a otimização dos hiperparâmetros:"
   ]
  },
  {
   "cell_type": "code",
   "execution_count": 28,
   "metadata": {
    "execution": {
     "iopub.execute_input": "2020-12-01T12:43:01.203148Z",
     "iopub.status.busy": "2020-12-01T12:43:01.202368Z",
     "iopub.status.idle": "2020-12-01T12:43:01.205668Z",
     "shell.execute_reply": "2020-12-01T12:43:01.205080Z"
    },
    "papermill": {
     "duration": 0.104769,
     "end_time": "2020-12-01T12:43:01.205785",
     "exception": false,
     "start_time": "2020-12-01T12:43:01.101016",
     "status": "completed"
    },
    "tags": []
   },
   "outputs": [],
   "source": [
    "def create_model(neurons=(10,10), pen=(.001, .001)):\n",
    "    \n",
    "    ops.reset_default_graph() #é importante resetar os grafos das redes neurais já criadas para não tornam o processo muito lento \n",
    "    \n",
    "    #Criando modelo\n",
    "    model = Sequential()\n",
    "    model.add(Dense(neurons[0], input_shape=(n_features,), activation='relu', \n",
    "                    kernel_regularizer=regularizers.l1_l2(l1=pen[0], l2=pen[1]), \n",
    "                    bias_regularizer=regularizers.l1_l2(l1=pen[0], l2=pen[1])))\n",
    "    model.add(Dense(neurons[1], activation='relu', \n",
    "                    kernel_regularizer=regularizers.l1_l2(l1=pen[0], l2=pen[1]), \n",
    "                    bias_regularizer=regularizers.l1_l2(l1=pen[0], l2=pen[1])))\n",
    "    model.add(Dense(1, activation='sigmoid', \n",
    "                    kernel_regularizer=regularizers.l1_l2(l1=pen[0], l2=pen[1]), \n",
    "                    bias_regularizer=regularizers.l1_l2(l1=pen[0], l2=pen[1])))\n",
    "    \n",
    "    #Compilando\n",
    "    model.compile(optimizer='adam', loss='binary_crossentropy', metrics=[tf.keras.metrics.AUC()])\n",
    "    return model"
   ]
  },
  {
   "cell_type": "markdown",
   "metadata": {
    "papermill": {
     "duration": 0.086742,
     "end_time": "2020-12-01T12:43:01.380536",
     "exception": false,
     "start_time": "2020-12-01T12:43:01.293794",
     "status": "completed"
    },
    "tags": []
   },
   "source": [
    "- Para cada linha do dataframe 'params', vamos treinar um modelo e avaliá-lo no conjunto de teste:"
   ]
  },
  {
   "cell_type": "code",
   "execution_count": 29,
   "metadata": {
    "execution": {
     "iopub.execute_input": "2020-12-01T12:43:01.564493Z",
     "iopub.status.busy": "2020-12-01T12:43:01.563764Z",
     "iopub.status.idle": "2020-12-01T12:54:59.760624Z",
     "shell.execute_reply": "2020-12-01T12:54:59.759662Z"
    },
    "papermill": {
     "duration": 718.293313,
     "end_time": "2020-12-01T12:54:59.760785",
     "exception": false,
     "start_time": "2020-12-01T12:43:01.467472",
     "status": "completed"
    },
    "tags": []
   },
   "outputs": [
    {
     "name": "stderr",
     "output_type": "stream",
     "text": [
      "100%|██████████| 100/100 [11:58<00:00,  7.18s/it]\n"
     ]
    }
   ],
   "source": [
    "n_features = X_train.shape[1]\n",
    "es = EarlyStopping(monitor = \"val_auc\", patience = 10)\n",
    "\n",
    "for i in tqdm(range(n_iter)):\n",
    "    model = create_model(params.loc[i, \"neurons\"], params.loc[i, \"penalties\"])\n",
    "    \n",
    "    history = model.fit(X_train, Y_train, epochs = 50, validation_data = (X_val, Y_val), \n",
    "                        batch_size = 96, shuffle = True, verbose = False, callbacks = [es]) \n",
    "    \n",
    "    params.loc[i, \"iterations\"] = len(history.history[\"val_auc\"])\n",
    "    params.loc[i, \"auc\"] = history.history[\"val_auc\"][-1]"
   ]
  },
  {
   "cell_type": "markdown",
   "metadata": {
    "papermill": {
     "duration": 0.127852,
     "end_time": "2020-12-01T12:55:00.018569",
     "exception": false,
     "start_time": "2020-12-01T12:54:59.890717",
     "status": "completed"
    },
    "tags": []
   },
   "source": [
    "- Vamos visualizar as 10 melhores combinações de valores para os hiperparâmetros:"
   ]
  },
  {
   "cell_type": "code",
   "execution_count": 30,
   "metadata": {
    "execution": {
     "iopub.execute_input": "2020-12-01T12:55:00.295506Z",
     "iopub.status.busy": "2020-12-01T12:55:00.294401Z",
     "iopub.status.idle": "2020-12-01T12:55:00.299249Z",
     "shell.execute_reply": "2020-12-01T12:55:00.298513Z"
    },
    "papermill": {
     "duration": 0.152482,
     "end_time": "2020-12-01T12:55:00.299373",
     "exception": false,
     "start_time": "2020-12-01T12:55:00.146891",
     "status": "completed"
    },
    "tags": []
   },
   "outputs": [
    {
     "data": {
      "text/html": [
       "<div>\n",
       "<style scoped>\n",
       "    .dataframe tbody tr th:only-of-type {\n",
       "        vertical-align: middle;\n",
       "    }\n",
       "\n",
       "    .dataframe tbody tr th {\n",
       "        vertical-align: top;\n",
       "    }\n",
       "\n",
       "    .dataframe thead th {\n",
       "        text-align: right;\n",
       "    }\n",
       "</style>\n",
       "<table border=\"1\" class=\"dataframe\">\n",
       "  <thead>\n",
       "    <tr style=\"text-align: right;\">\n",
       "      <th></th>\n",
       "      <th>neurons</th>\n",
       "      <th>penalties</th>\n",
       "      <th>iterations</th>\n",
       "      <th>auc</th>\n",
       "    </tr>\n",
       "  </thead>\n",
       "  <tbody>\n",
       "    <tr>\n",
       "      <th>47</th>\n",
       "      <td>(92, 22)</td>\n",
       "      <td>(0, 0.001)</td>\n",
       "      <td>11</td>\n",
       "      <td>0.894599</td>\n",
       "    </tr>\n",
       "    <tr>\n",
       "      <th>73</th>\n",
       "      <td>(95, 28)</td>\n",
       "      <td>(1e-15, 0.001)</td>\n",
       "      <td>11</td>\n",
       "      <td>0.894002</td>\n",
       "    </tr>\n",
       "    <tr>\n",
       "      <th>20</th>\n",
       "      <td>(69, 51)</td>\n",
       "      <td>(1e-15, 0.001)</td>\n",
       "      <td>11</td>\n",
       "      <td>0.893576</td>\n",
       "    </tr>\n",
       "    <tr>\n",
       "      <th>39</th>\n",
       "      <td>(64, 27)</td>\n",
       "      <td>(1e-05, 0.001)</td>\n",
       "      <td>11</td>\n",
       "      <td>0.893406</td>\n",
       "    </tr>\n",
       "    <tr>\n",
       "      <th>77</th>\n",
       "      <td>(47, 33)</td>\n",
       "      <td>(1e-10, 0.001)</td>\n",
       "      <td>11</td>\n",
       "      <td>0.893095</td>\n",
       "    </tr>\n",
       "  </tbody>\n",
       "</table>\n",
       "</div>"
      ],
      "text/plain": [
       "     neurons       penalties iterations       auc\n",
       "47  (92, 22)      (0, 0.001)         11  0.894599\n",
       "73  (95, 28)  (1e-15, 0.001)         11  0.894002\n",
       "20  (69, 51)  (1e-15, 0.001)         11  0.893576\n",
       "39  (64, 27)  (1e-05, 0.001)         11  0.893406\n",
       "77  (47, 33)  (1e-10, 0.001)         11  0.893095"
      ]
     },
     "execution_count": 30,
     "metadata": {},
     "output_type": "execute_result"
    }
   ],
   "source": [
    "# Define o dataframe de tal modo que as métricas AUC apareçam em ordem decrescente, apenas para facilitar a visualização\n",
    "params = params.sort_values(\"auc\", ascending = False)\n",
    "params.head()"
   ]
  },
  {
   "cell_type": "markdown",
   "metadata": {
    "papermill": {
     "duration": 0.128899,
     "end_time": "2020-12-01T12:55:00.557394",
     "exception": false,
     "start_time": "2020-12-01T12:55:00.428495",
     "status": "completed"
    },
    "tags": []
   },
   "source": [
    "- Vamos treinar nosso modelo final com os melhores valores para os hiperparâmetros e o melhor número de iterações:"
   ]
  },
  {
   "cell_type": "code",
   "execution_count": 31,
   "metadata": {
    "execution": {
     "iopub.execute_input": "2020-12-01T12:55:00.828403Z",
     "iopub.status.busy": "2020-12-01T12:55:00.827276Z",
     "iopub.status.idle": "2020-12-01T12:55:08.765003Z",
     "shell.execute_reply": "2020-12-01T12:55:08.765566Z"
    },
    "papermill": {
     "duration": 8.079489,
     "end_time": "2020-12-01T12:55:08.765726",
     "exception": false,
     "start_time": "2020-12-01T12:55:00.686237",
     "status": "completed"
    },
    "tags": []
   },
   "outputs": [
    {
     "name": "stdout",
     "output_type": "stream",
     "text": [
      "Epoch 1/11\n",
      "260/260 [==============================] - 1s 3ms/step - loss: 0.5548 - auc: 0.8572 - val_loss: 0.4954 - val_auc: 0.8866\n",
      "Epoch 2/11\n",
      "260/260 [==============================] - 1s 2ms/step - loss: 0.4766 - auc: 0.8922 - val_loss: 0.4775 - val_auc: 0.8892\n",
      "Epoch 3/11\n",
      "260/260 [==============================] - 1s 2ms/step - loss: 0.4587 - auc: 0.8956 - val_loss: 0.4625 - val_auc: 0.8914\n",
      "Epoch 4/11\n",
      "260/260 [==============================] - 1s 2ms/step - loss: 0.4468 - auc: 0.8982 - val_loss: 0.4554 - val_auc: 0.8927\n",
      "Epoch 5/11\n",
      "260/260 [==============================] - 1s 2ms/step - loss: 0.4400 - auc: 0.8994 - val_loss: 0.4529 - val_auc: 0.8914\n",
      "Epoch 6/11\n",
      "260/260 [==============================] - 1s 2ms/step - loss: 0.4337 - auc: 0.9011 - val_loss: 0.4487 - val_auc: 0.8922\n",
      "Epoch 7/11\n",
      "260/260 [==============================] - 1s 2ms/step - loss: 0.4286 - auc: 0.9028 - val_loss: 0.4484 - val_auc: 0.8916\n",
      "Epoch 8/11\n",
      "260/260 [==============================] - 1s 2ms/step - loss: 0.4267 - auc: 0.9030 - val_loss: 0.4501 - val_auc: 0.8929\n",
      "Epoch 9/11\n",
      "260/260 [==============================] - 1s 2ms/step - loss: 0.4221 - auc: 0.9050 - val_loss: 0.4455 - val_auc: 0.8932\n",
      "Epoch 10/11\n",
      "260/260 [==============================] - 1s 2ms/step - loss: 0.4190 - auc: 0.9062 - val_loss: 0.4446 - val_auc: 0.8924\n",
      "Epoch 11/11\n",
      "260/260 [==============================] - 1s 2ms/step - loss: 0.4178 - auc: 0.9065 - val_loss: 0.4485 - val_auc: 0.8932\n"
     ]
    },
    {
     "data": {
      "text/plain": [
       "<tensorflow.python.keras.callbacks.History at 0x7f6a187134d0>"
      ]
     },
     "execution_count": 31,
     "metadata": {},
     "output_type": "execute_result"
    }
   ],
   "source": [
    "#Melhores valores\n",
    "neurons = params[\"neurons\"][0]\n",
    "pen = params[\"penalties\"][0]\n",
    "epochs = params[\"iterations\"][0]\n",
    "\n",
    "#Criando modelo\n",
    "model_optimized = create_model(neurons, pen)\n",
    "\n",
    "#Treinando modelo\n",
    "model_optimized.fit(X_train, Y_train, epochs = epochs, validation_data = (X_val, Y_val), \n",
    "                        batch_size = 96, shuffle = True, verbose = 1)"
   ]
  },
  {
   "cell_type": "markdown",
   "metadata": {
    "papermill": {
     "duration": 0.170185,
     "end_time": "2020-12-01T12:55:09.107435",
     "exception": false,
     "start_time": "2020-12-01T12:55:08.937250",
     "status": "completed"
    },
    "tags": []
   },
   "source": [
    "- O resultado obtido para essa rede neural foi:"
   ]
  },
  {
   "cell_type": "code",
   "execution_count": 32,
   "metadata": {
    "execution": {
     "iopub.execute_input": "2020-12-01T12:55:09.453738Z",
     "iopub.status.busy": "2020-12-01T12:55:09.452917Z",
     "iopub.status.idle": "2020-12-01T12:55:09.823865Z",
     "shell.execute_reply": "2020-12-01T12:55:09.822885Z"
    },
    "papermill": {
     "duration": 0.545825,
     "end_time": "2020-12-01T12:55:09.824073",
     "exception": false,
     "start_time": "2020-12-01T12:55:09.278248",
     "status": "completed"
    },
    "tags": []
   },
   "outputs": [
    {
     "name": "stdout",
     "output_type": "stream",
     "text": [
      "Melhor score:  0.8933033018914358\n"
     ]
    }
   ],
   "source": [
    "print(\"Melhor score: \", roc_auc_score(Y_val, model_optimized.predict(X_val.squeeze())))"
   ]
  },
  {
   "cell_type": "markdown",
   "metadata": {
    "papermill": {
     "duration": 0.171445,
     "end_time": "2020-12-01T12:55:10.177262",
     "exception": false,
     "start_time": "2020-12-01T12:55:10.005817",
     "status": "completed"
    },
    "tags": []
   },
   "source": [
    "## Modelos alternativos\n",
    "- Nessa etapa, iremos criar alguns modelos alternativos de predição dentre os aprendidos em aula, comparando suas acurácias com as das redes neurais:"
   ]
  },
  {
   "cell_type": "markdown",
   "metadata": {
    "papermill": {
     "duration": 0.170113,
     "end_time": "2020-12-01T12:55:10.518952",
     "exception": false,
     "start_time": "2020-12-01T12:55:10.348839",
     "status": "completed"
    },
    "tags": []
   },
   "source": [
    "### KNN (K-Nearest Neighbors)\n",
    "- Vamos definir o KNN e encontrar os melhores hiperparâmetros utilizando o método GridSearchCV. Buscaremos o hiperparâmetro \"K\" ótimo no intervalo de 3 a 35."
   ]
  },
  {
   "cell_type": "code",
   "execution_count": 33,
   "metadata": {
    "execution": {
     "iopub.execute_input": "2020-12-01T12:55:10.869932Z",
     "iopub.status.busy": "2020-12-01T12:55:10.869197Z",
     "iopub.status.idle": "2020-12-01T12:55:10.872298Z",
     "shell.execute_reply": "2020-12-01T12:55:10.872812Z"
    },
    "papermill": {
     "duration": 0.183196,
     "end_time": "2020-12-01T12:55:10.872968",
     "exception": false,
     "start_time": "2020-12-01T12:55:10.689772",
     "status": "completed"
    },
    "tags": []
   },
   "outputs": [],
   "source": [
    "from sklearn.neighbors import KNeighborsClassifier\n",
    "\n",
    "knn = KNeighborsClassifier(algorithm = \"auto\", leaf_size = 30, n_jobs = -1)\n",
    "\n",
    "grid_params_knn = {\"p\":[1, 2], \"n_neighbors\":[i for i in range(3, 36)]}\n",
    "grid_knn = GridSearchCV(knn, grid_params_knn, cv = 2, n_jobs = -1, verbose = 1, scoring = \"roc_auc\")"
   ]
  },
  {
   "cell_type": "markdown",
   "metadata": {
    "papermill": {
     "duration": 0.171351,
     "end_time": "2020-12-01T12:55:11.215679",
     "exception": false,
     "start_time": "2020-12-01T12:55:11.044328",
     "status": "completed"
    },
    "tags": []
   },
   "source": [
    "- Tendo encontrado os melhores hiperparâmetros, podemos treinar nosso KNN:"
   ]
  },
  {
   "cell_type": "code",
   "execution_count": 34,
   "metadata": {
    "execution": {
     "iopub.execute_input": "2020-12-01T12:55:11.563958Z",
     "iopub.status.busy": "2020-12-01T12:55:11.563265Z",
     "iopub.status.idle": "2020-12-01T13:15:36.933087Z",
     "shell.execute_reply": "2020-12-01T13:15:36.932438Z"
    },
    "papermill": {
     "duration": 1225.545255,
     "end_time": "2020-12-01T13:15:36.933248",
     "exception": false,
     "start_time": "2020-12-01T12:55:11.387993",
     "status": "completed"
    },
    "tags": []
   },
   "outputs": [
    {
     "name": "stdout",
     "output_type": "stream",
     "text": [
      "Fitting 2 folds for each of 66 candidates, totalling 132 fits\n"
     ]
    },
    {
     "name": "stderr",
     "output_type": "stream",
     "text": [
      "[Parallel(n_jobs=-1)]: Using backend LokyBackend with 4 concurrent workers.\n",
      "[Parallel(n_jobs=-1)]: Done  42 tasks      | elapsed:  6.9min\n",
      "[Parallel(n_jobs=-1)]: Done 132 out of 132 | elapsed: 20.4min finished\n"
     ]
    },
    {
     "data": {
      "text/plain": [
       "GridSearchCV(cv=2, estimator=KNeighborsClassifier(n_jobs=-1), n_jobs=-1,\n",
       "             param_grid={'n_neighbors': [3, 4, 5, 6, 7, 8, 9, 10, 11, 12, 13,\n",
       "                                         14, 15, 16, 17, 18, 19, 20, 21, 22, 23,\n",
       "                                         24, 25, 26, 27, 28, 29, 30, 31, 32, ...],\n",
       "                         'p': [1, 2]},\n",
       "             scoring='roc_auc', verbose=1)"
      ]
     },
     "execution_count": 34,
     "metadata": {},
     "output_type": "execute_result"
    }
   ],
   "source": [
    "grid_knn.fit(X_train, Y_train)"
   ]
  },
  {
   "cell_type": "markdown",
   "metadata": {
    "papermill": {
     "duration": 0.218267,
     "end_time": "2020-12-01T13:15:37.325420",
     "exception": false,
     "start_time": "2020-12-01T13:15:37.107153",
     "status": "completed"
    },
    "tags": []
   },
   "source": [
    "- Vamos avaliar nosso KNN usando o *scorer* do próprio *GridSearchCV*, que foi utilizado durante a otimização dos hiperparâmetros:"
   ]
  },
  {
   "cell_type": "code",
   "execution_count": 35,
   "metadata": {
    "execution": {
     "iopub.execute_input": "2020-12-01T13:15:37.678491Z",
     "iopub.status.busy": "2020-12-01T13:15:37.677610Z",
     "iopub.status.idle": "2020-12-01T13:15:37.682627Z",
     "shell.execute_reply": "2020-12-01T13:15:37.681828Z"
    },
    "papermill": {
     "duration": 0.184651,
     "end_time": "2020-12-01T13:15:37.682784",
     "exception": false,
     "start_time": "2020-12-01T13:15:37.498133",
     "status": "completed"
    },
    "tags": []
   },
   "outputs": [
    {
     "name": "stdout",
     "output_type": "stream",
     "text": [
      "Hiperparâmetros: KNeighborsClassifier(n_jobs=-1, n_neighbors=35)\n",
      "Melhor score: 0.8506492032314856\n"
     ]
    }
   ],
   "source": [
    "print(\"Hiperparâmetros:\", grid_knn.best_estimator_)\n",
    "print(\"Melhor score:\", grid_knn.best_score_)"
   ]
  },
  {
   "cell_type": "markdown",
   "metadata": {
    "papermill": {
     "duration": 0.172232,
     "end_time": "2020-12-01T13:15:38.029234",
     "exception": false,
     "start_time": "2020-12-01T13:15:37.857002",
     "status": "completed"
    },
    "tags": []
   },
   "source": [
    "- Mantendo o melhor modelo encontrado para o KNN:"
   ]
  },
  {
   "cell_type": "code",
   "execution_count": 36,
   "metadata": {
    "execution": {
     "iopub.execute_input": "2020-12-01T13:15:38.382416Z",
     "iopub.status.busy": "2020-12-01T13:15:38.381395Z",
     "iopub.status.idle": "2020-12-01T13:15:38.384718Z",
     "shell.execute_reply": "2020-12-01T13:15:38.383997Z"
    },
    "papermill": {
     "duration": 0.183009,
     "end_time": "2020-12-01T13:15:38.384835",
     "exception": false,
     "start_time": "2020-12-01T13:15:38.201826",
     "status": "completed"
    },
    "tags": []
   },
   "outputs": [],
   "source": [
    "knn = grid_knn.best_estimator_"
   ]
  },
  {
   "cell_type": "markdown",
   "metadata": {
    "papermill": {
     "duration": 0.172345,
     "end_time": "2020-12-01T13:15:38.729696",
     "exception": false,
     "start_time": "2020-12-01T13:15:38.557351",
     "status": "completed"
    },
    "tags": []
   },
   "source": [
    "### Regressão Logística\n",
    "- Vamos testar a regressão logística com o resultado do Doc2Vec. Para fazer a busca de hiperparâmetros, utilizaremos o RandomizedSearchCV, otimizando os valores de C e do tipo de regularização:"
   ]
  },
  {
   "cell_type": "code",
   "execution_count": 37,
   "metadata": {
    "execution": {
     "iopub.execute_input": "2020-12-01T13:15:39.085295Z",
     "iopub.status.busy": "2020-12-01T13:15:39.084237Z",
     "iopub.status.idle": "2020-12-01T13:15:55.545416Z",
     "shell.execute_reply": "2020-12-01T13:15:55.544628Z"
    },
    "papermill": {
     "duration": 16.64323,
     "end_time": "2020-12-01T13:15:55.545539",
     "exception": false,
     "start_time": "2020-12-01T13:15:38.902309",
     "status": "completed"
    },
    "tags": []
   },
   "outputs": [
    {
     "name": "stdout",
     "output_type": "stream",
     "text": [
      "Fitting 2 folds for each of 50 candidates, totalling 100 fits\n"
     ]
    },
    {
     "name": "stderr",
     "output_type": "stream",
     "text": [
      "[Parallel(n_jobs=-1)]: Using backend LokyBackend with 4 concurrent workers.\n",
      "[Parallel(n_jobs=-1)]: Done  33 tasks      | elapsed:    4.9s\n",
      "[Parallel(n_jobs=-1)]: Done 100 out of 100 | elapsed:   16.0s finished\n"
     ]
    }
   ],
   "source": [
    "from sklearn.linear_model import LogisticRegression\n",
    "\n",
    "# Modelo de Regressão Logística\n",
    "logreg = LogisticRegression(solver='liblinear',random_state=42)\n",
    "\n",
    "# Hiperparâmetros a serem otimizados: 'C' e tipo de regularização\n",
    "hyperparams = dict(C=np.linspace(0,10,100), \n",
    "                   penalty=['l2', 'l1'])\n",
    "\n",
    "# Busca de Hiperparâmetros\n",
    "logreg_clf = RandomizedSearchCV(logreg, hyperparams, scoring='roc_auc', n_iter=50, cv=2, n_jobs=-1, random_state=0, verbose=2)\n",
    "search_logreg = logreg_clf.fit(X_train, Y_train)"
   ]
  },
  {
   "cell_type": "markdown",
   "metadata": {
    "papermill": {
     "duration": 0.175909,
     "end_time": "2020-12-01T13:15:55.901347",
     "exception": false,
     "start_time": "2020-12-01T13:15:55.725438",
     "status": "completed"
    },
    "tags": []
   },
   "source": [
    "- Os melhores hiperparâmetros encontrados e a melhor acurácia nesse regressor foram:"
   ]
  },
  {
   "cell_type": "code",
   "execution_count": 38,
   "metadata": {
    "execution": {
     "iopub.execute_input": "2020-12-01T13:15:56.258022Z",
     "iopub.status.busy": "2020-12-01T13:15:56.257289Z",
     "iopub.status.idle": "2020-12-01T13:15:56.261617Z",
     "shell.execute_reply": "2020-12-01T13:15:56.260949Z"
    },
    "papermill": {
     "duration": 0.184957,
     "end_time": "2020-12-01T13:15:56.261736",
     "exception": false,
     "start_time": "2020-12-01T13:15:56.076779",
     "status": "completed"
    },
    "tags": []
   },
   "outputs": [
    {
     "name": "stdout",
     "output_type": "stream",
     "text": [
      "Hiperparâmetros: {'penalty': 'l2', 'C': 0.20202020202020202}\n",
      "Melhor score: 0.8826467548609556\n"
     ]
    }
   ],
   "source": [
    "print(\"Hiperparâmetros:\", search_logreg.best_params_)\n",
    "print(\"Melhor score:\", search_logreg.best_score_)"
   ]
  },
  {
   "cell_type": "markdown",
   "metadata": {
    "papermill": {
     "duration": 0.176904,
     "end_time": "2020-12-01T13:15:56.629694",
     "exception": false,
     "start_time": "2020-12-01T13:15:56.452790",
     "status": "completed"
    },
    "tags": []
   },
   "source": [
    "## Comparação entre todos os modelos utilizados\n",
    "- Adiante, iremos comparar as acurácias dos nossos 5 modelos e determinar qual é o melhor. O modelo com melhor resultado será usado na predição final:"
   ]
  },
  {
   "cell_type": "code",
   "execution_count": 39,
   "metadata": {
    "execution": {
     "iopub.execute_input": "2020-12-01T13:15:56.992368Z",
     "iopub.status.busy": "2020-12-01T13:15:56.991622Z",
     "iopub.status.idle": "2020-12-01T13:15:57.267754Z",
     "shell.execute_reply": "2020-12-01T13:15:57.267131Z"
    },
    "papermill": {
     "duration": 0.461313,
     "end_time": "2020-12-01T13:15:57.267884",
     "exception": false,
     "start_time": "2020-12-01T13:15:56.806571",
     "status": "completed"
    },
    "tags": []
   },
   "outputs": [],
   "source": [
    "modelos = ['NN_SKLearn_1L', 'NN_SKLearn_2L', 'NN_TensorFlow_2L', 'KNN', 'LogisticRegression']\n",
    "scores = [search_mlp1l.best_score_, search_mlp2l.best_score_, roc_auc_score(Y_val, model_optimized.predict(X_val).squeeze()), \n",
    "          grid_knn.best_score_, search_logreg.best_score_]\n",
    "comparação = {'Modelo': modelos, \"AUC\": scores}\n",
    "comparação = pd.DataFrame(comparação)"
   ]
  },
  {
   "cell_type": "markdown",
   "metadata": {
    "papermill": {
     "duration": 0.174792,
     "end_time": "2020-12-01T13:15:57.619809",
     "exception": false,
     "start_time": "2020-12-01T13:15:57.445017",
     "status": "completed"
    },
    "tags": []
   },
   "source": [
    "- Vamos organizar a nossa tabela em ordem decrescente de AUC:"
   ]
  },
  {
   "cell_type": "code",
   "execution_count": 40,
   "metadata": {
    "execution": {
     "iopub.execute_input": "2020-12-01T13:15:57.985847Z",
     "iopub.status.busy": "2020-12-01T13:15:57.984848Z",
     "iopub.status.idle": "2020-12-01T13:15:57.989707Z",
     "shell.execute_reply": "2020-12-01T13:15:57.988988Z"
    },
    "papermill": {
     "duration": 0.193954,
     "end_time": "2020-12-01T13:15:57.989823",
     "exception": false,
     "start_time": "2020-12-01T13:15:57.795869",
     "status": "completed"
    },
    "tags": []
   },
   "outputs": [
    {
     "data": {
      "text/html": [
       "<div>\n",
       "<style scoped>\n",
       "    .dataframe tbody tr th:only-of-type {\n",
       "        vertical-align: middle;\n",
       "    }\n",
       "\n",
       "    .dataframe tbody tr th {\n",
       "        vertical-align: top;\n",
       "    }\n",
       "\n",
       "    .dataframe thead th {\n",
       "        text-align: right;\n",
       "    }\n",
       "</style>\n",
       "<table border=\"1\" class=\"dataframe\">\n",
       "  <thead>\n",
       "    <tr style=\"text-align: right;\">\n",
       "      <th></th>\n",
       "      <th>Modelo</th>\n",
       "      <th>AUC</th>\n",
       "    </tr>\n",
       "  </thead>\n",
       "  <tbody>\n",
       "    <tr>\n",
       "      <th>0</th>\n",
       "      <td>NN_TensorFlow_2L</td>\n",
       "      <td>0.893303</td>\n",
       "    </tr>\n",
       "    <tr>\n",
       "      <th>1</th>\n",
       "      <td>NN_SKLearn_2L</td>\n",
       "      <td>0.889587</td>\n",
       "    </tr>\n",
       "    <tr>\n",
       "      <th>2</th>\n",
       "      <td>NN_SKLearn_1L</td>\n",
       "      <td>0.888597</td>\n",
       "    </tr>\n",
       "    <tr>\n",
       "      <th>3</th>\n",
       "      <td>LogisticRegression</td>\n",
       "      <td>0.882647</td>\n",
       "    </tr>\n",
       "    <tr>\n",
       "      <th>4</th>\n",
       "      <td>KNN</td>\n",
       "      <td>0.850649</td>\n",
       "    </tr>\n",
       "  </tbody>\n",
       "</table>\n",
       "</div>"
      ],
      "text/plain": [
       "               Modelo       AUC\n",
       "0    NN_TensorFlow_2L  0.893303\n",
       "1       NN_SKLearn_2L  0.889587\n",
       "2       NN_SKLearn_1L  0.888597\n",
       "3  LogisticRegression  0.882647\n",
       "4                 KNN  0.850649"
      ]
     },
     "execution_count": 40,
     "metadata": {},
     "output_type": "execute_result"
    }
   ],
   "source": [
    "comparação = comparação.sort_values(\"AUC\", ascending = False)\n",
    "comparação.reset_index(drop=True, inplace=True)\n",
    "comparação.head()"
   ]
  },
  {
   "cell_type": "markdown",
   "metadata": {
    "papermill": {
     "duration": 0.177734,
     "end_time": "2020-12-01T13:15:58.345510",
     "exception": false,
     "start_time": "2020-12-01T13:15:58.167776",
     "status": "completed"
    },
    "tags": []
   },
   "source": [
    "- Percebemos que o modelo que resultou numa melhor métrica AUC foi a Rede Neural com duas *hidden layers* feita utilizando Tensor Flow e Keras. Portanto, utilizaremos ela para realizar a predição."
   ]
  },
  {
   "cell_type": "markdown",
   "metadata": {
    "papermill": {
     "duration": 0.176115,
     "end_time": "2020-12-01T13:15:58.707327",
     "exception": false,
     "start_time": "2020-12-01T13:15:58.531212",
     "status": "completed"
    },
    "tags": []
   },
   "source": [
    "## Análise de sentimento \n",
    "- Para finalizar, precisamos predizer os sentimentos na nossa base de dados teste 2, em que temos apenas as avaliações e fazer sua submissão. Começamos importando-a:"
   ]
  },
  {
   "cell_type": "code",
   "execution_count": 41,
   "metadata": {
    "execution": {
     "iopub.execute_input": "2020-12-01T13:15:59.069488Z",
     "iopub.status.busy": "2020-12-01T13:15:59.068730Z",
     "iopub.status.idle": "2020-12-01T13:15:59.354466Z",
     "shell.execute_reply": "2020-12-01T13:15:59.353834Z"
    },
    "papermill": {
     "duration": 0.47011,
     "end_time": "2020-12-01T13:15:59.354583",
     "exception": false,
     "start_time": "2020-12-01T13:15:58.884473",
     "status": "completed"
    },
    "tags": []
   },
   "outputs": [
    {
     "data": {
      "text/html": [
       "<div>\n",
       "<style scoped>\n",
       "    .dataframe tbody tr th:only-of-type {\n",
       "        vertical-align: middle;\n",
       "    }\n",
       "\n",
       "    .dataframe tbody tr th {\n",
       "        vertical-align: top;\n",
       "    }\n",
       "\n",
       "    .dataframe thead th {\n",
       "        text-align: right;\n",
       "    }\n",
       "</style>\n",
       "<table border=\"1\" class=\"dataframe\">\n",
       "  <thead>\n",
       "    <tr style=\"text-align: right;\">\n",
       "      <th></th>\n",
       "      <th>review</th>\n",
       "    </tr>\n",
       "  </thead>\n",
       "  <tbody>\n",
       "    <tr>\n",
       "      <th>0</th>\n",
       "      <td>How is it in this day and era, people are stil...</td>\n",
       "    </tr>\n",
       "    <tr>\n",
       "      <th>1</th>\n",
       "      <td>I mean let's face it, all you have to do in mo...</td>\n",
       "    </tr>\n",
       "    <tr>\n",
       "      <th>2</th>\n",
       "      <td>\"RVAM\"'s reputation preceded it. I first heard...</td>\n",
       "    </tr>\n",
       "    <tr>\n",
       "      <th>3</th>\n",
       "      <td>A lot of the negative reviews here concentrate...</td>\n",
       "    </tr>\n",
       "    <tr>\n",
       "      <th>4</th>\n",
       "      <td>A SOUND OF THUNDER. One of the greatest short ...</td>\n",
       "    </tr>\n",
       "  </tbody>\n",
       "</table>\n",
       "</div>"
      ],
      "text/plain": [
       "                                              review\n",
       "0  How is it in this day and era, people are stil...\n",
       "1  I mean let's face it, all you have to do in mo...\n",
       "2  \"RVAM\"'s reputation preceded it. I first heard...\n",
       "3  A lot of the negative reviews here concentrate...\n",
       "4  A SOUND OF THUNDER. One of the greatest short ..."
      ]
     },
     "execution_count": 41,
     "metadata": {},
     "output_type": "execute_result"
    }
   ],
   "source": [
    "test = pd.read_csv(\"../input/sentiment-analysis-pmr3508/data_test2_X.csv\")\n",
    "test.head()"
   ]
  },
  {
   "cell_type": "markdown",
   "metadata": {
    "papermill": {
     "duration": 0.186419,
     "end_time": "2020-12-01T13:15:59.723653",
     "exception": false,
     "start_time": "2020-12-01T13:15:59.537234",
     "status": "completed"
    },
    "tags": []
   },
   "source": [
    "### Limpeza e pré-processamento dos dados de teste\n",
    "- Trataremos os dados de teste da mesma maneira como fizemos com o set de treino:"
   ]
  },
  {
   "cell_type": "code",
   "execution_count": 42,
   "metadata": {
    "execution": {
     "iopub.execute_input": "2020-12-01T13:16:00.105814Z",
     "iopub.status.busy": "2020-12-01T13:16:00.100186Z",
     "iopub.status.idle": "2020-12-01T13:18:28.493310Z",
     "shell.execute_reply": "2020-12-01T13:18:28.492479Z"
    },
    "papermill": {
     "duration": 148.591479,
     "end_time": "2020-12-01T13:18:28.493445",
     "exception": false,
     "start_time": "2020-12-01T13:15:59.901966",
     "status": "completed"
    },
    "tags": []
   },
   "outputs": [],
   "source": [
    "X_test = test['review'].tolist()\n",
    "X_test = [clean(x).split() for x in X_test]\n",
    "X_test = [emb(x, d2v) for x in X_test] \n",
    "X_test = np.array(X_test)"
   ]
  },
  {
   "cell_type": "markdown",
   "metadata": {
    "papermill": {
     "duration": 0.178213,
     "end_time": "2020-12-01T13:18:28.849670",
     "exception": false,
     "start_time": "2020-12-01T13:18:28.671457",
     "status": "completed"
    },
    "tags": []
   },
   "source": [
    "### Predição\n",
    "- Realizando a predição e passando-a para o formato .csv:"
   ]
  },
  {
   "cell_type": "code",
   "execution_count": 43,
   "metadata": {
    "execution": {
     "iopub.execute_input": "2020-12-01T13:18:29.212558Z",
     "iopub.status.busy": "2020-12-01T13:18:29.211752Z",
     "iopub.status.idle": "2020-12-01T13:18:29.773736Z",
     "shell.execute_reply": "2020-12-01T13:18:29.773043Z"
    },
    "papermill": {
     "duration": 0.746494,
     "end_time": "2020-12-01T13:18:29.773873",
     "exception": false,
     "start_time": "2020-12-01T13:18:29.027379",
     "status": "completed"
    },
    "tags": []
   },
   "outputs": [],
   "source": [
    "predict = {\"positive\":model_optimized.predict(X_test).squeeze()}\n",
    "submission = pd.DataFrame(predict)\n",
    "submission.to_csv(\"submission.csv\", index = True, index_label = \"Id\")\n"
   ]
  },
  {
   "cell_type": "code",
   "execution_count": 44,
   "metadata": {
    "execution": {
     "iopub.execute_input": "2020-12-01T13:18:30.144309Z",
     "iopub.status.busy": "2020-12-01T13:18:30.143196Z",
     "iopub.status.idle": "2020-12-01T13:18:30.147995Z",
     "shell.execute_reply": "2020-12-01T13:18:30.147440Z"
    },
    "papermill": {
     "duration": 0.196879,
     "end_time": "2020-12-01T13:18:30.148133",
     "exception": false,
     "start_time": "2020-12-01T13:18:29.951254",
     "status": "completed"
    },
    "tags": []
   },
   "outputs": [
    {
     "data": {
      "text/html": [
       "<div>\n",
       "<style scoped>\n",
       "    .dataframe tbody tr th:only-of-type {\n",
       "        vertical-align: middle;\n",
       "    }\n",
       "\n",
       "    .dataframe tbody tr th {\n",
       "        vertical-align: top;\n",
       "    }\n",
       "\n",
       "    .dataframe thead th {\n",
       "        text-align: right;\n",
       "    }\n",
       "</style>\n",
       "<table border=\"1\" class=\"dataframe\">\n",
       "  <thead>\n",
       "    <tr style=\"text-align: right;\">\n",
       "      <th></th>\n",
       "      <th>positive</th>\n",
       "    </tr>\n",
       "  </thead>\n",
       "  <tbody>\n",
       "    <tr>\n",
       "      <th>0</th>\n",
       "      <td>0.001514</td>\n",
       "    </tr>\n",
       "    <tr>\n",
       "      <th>1</th>\n",
       "      <td>0.338344</td>\n",
       "    </tr>\n",
       "    <tr>\n",
       "      <th>2</th>\n",
       "      <td>0.009116</td>\n",
       "    </tr>\n",
       "    <tr>\n",
       "      <th>3</th>\n",
       "      <td>0.090361</td>\n",
       "    </tr>\n",
       "    <tr>\n",
       "      <th>4</th>\n",
       "      <td>0.029743</td>\n",
       "    </tr>\n",
       "  </tbody>\n",
       "</table>\n",
       "</div>"
      ],
      "text/plain": [
       "   positive\n",
       "0  0.001514\n",
       "1  0.338344\n",
       "2  0.009116\n",
       "3  0.090361\n",
       "4  0.029743"
      ]
     },
     "execution_count": 44,
     "metadata": {},
     "output_type": "execute_result"
    }
   ],
   "source": [
    "submission.head()"
   ]
  },
  {
   "cell_type": "markdown",
   "metadata": {
    "papermill": {
     "duration": 0.178484,
     "end_time": "2020-12-01T13:18:30.505214",
     "exception": false,
     "start_time": "2020-12-01T13:18:30.326730",
     "status": "completed"
    },
    "tags": []
   },
   "source": [
    "E finalmente conseguimos obter a nossa predição!!!"
   ]
  }
 ],
 "metadata": {
  "kernelspec": {
   "display_name": "Python 3",
   "language": "python",
   "name": "python3"
  },
  "language_info": {
   "codemirror_mode": {
    "name": "ipython",
    "version": 3
   },
   "file_extension": ".py",
   "mimetype": "text/x-python",
   "name": "python",
   "nbconvert_exporter": "python",
   "pygments_lexer": "ipython3",
   "version": "3.7.6"
  },
  "papermill": {
   "duration": 2861.483437,
   "end_time": "2020-12-01T13:18:30.791852",
   "environment_variables": {},
   "exception": null,
   "input_path": "__notebook__.ipynb",
   "output_path": "__notebook__.ipynb",
   "parameters": {},
   "start_time": "2020-12-01T12:30:49.308415",
   "version": "2.1.0"
  }
 },
 "nbformat": 4,
 "nbformat_minor": 4
}
